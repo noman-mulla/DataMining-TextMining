{
 "cells": [
  {
   "cell_type": "code",
   "execution_count": 28,
   "metadata": {
    "collapsed": true
   },
   "outputs": [],
   "source": [
    "def read_file():\n",
    "    return 1\n",
    "    "
   ]
  },
  {
   "cell_type": "code",
   "execution_count": 47,
   "metadata": {},
   "outputs": [],
   "source": [
    "##final\n",
    "from operator import itemgetter\n",
    "from collections import OrderedDict\n",
    "def sortOnMIS(M):\n",
    "    #sorted_m = sorted(M.items(), key=operator.itemgetter(1))\n",
    "    sorted_m = sorted(M.items(), key=itemgetter(1))\n",
    "    return sorted_m"
   ]
  },
  {
   "cell_type": "markdown",
   "metadata": {},
   "source": [
    "MIS(10) = 0.43\n",
    "MIS(20) = 0.30\n",
    "MIS(30) = 0.30\n",
    "MIS(40) = 0.40\n",
    "MIS(50) = 0.40\n",
    "MIS(60) = 0.30\n",
    "MIS(70) = 0.20\n",
    "MIS(80) = 0.20\n",
    "MIS(90) = 0.20\n",
    "MIS(100) = 0.10\n",
    "MIS(120) = 0.20\n",
    "MIS(140) = 0.15"
   ]
  },
  {
   "cell_type": "code",
   "execution_count": 54,
   "metadata": {},
   "outputs": [
    {
     "data": {
      "text/plain": [
       "{'10': 0.43,\n",
       " '100': 0.1,\n",
       " '120': 0.2,\n",
       " '140': 0.15,\n",
       " '20': 0.3,\n",
       " '30': 0.3,\n",
       " '40': 0.4,\n",
       " '50': 0.4,\n",
       " '60': 0.3,\n",
       " '70': 0.2,\n",
       " '80': 0.2,\n",
       " '90': 0.2}"
      ]
     },
     "execution_count": 54,
     "metadata": {},
     "output_type": "execute_result"
    }
   ],
   "source": [
    "M = {\"10\":0.43,\"20\":0.30,\"30\":0.30,\"40\":0.40,\"50\":0.40,\"60\":0.30,\"70\":0.20,\"80\":0.20,\"90\":0.20,\"100\":0.10,\"120\":0.20,\"140\":0.15}\n",
    "M"
   ]
  },
  {
   "cell_type": "code",
   "execution_count": 49,
   "metadata": {},
   "outputs": [
    {
     "data": {
      "text/plain": [
       "[('100', 0.1),\n",
       " ('140', 0.15),\n",
       " ('70', 0.2),\n",
       " ('80', 0.2),\n",
       " ('90', 0.2),\n",
       " ('120', 0.2),\n",
       " ('20', 0.3),\n",
       " ('30', 0.3),\n",
       " ('60', 0.3),\n",
       " ('40', 0.4),\n",
       " ('50', 0.4),\n",
       " ('10', 0.43)]"
      ]
     },
     "execution_count": 49,
     "metadata": {},
     "output_type": "execute_result"
    }
   ],
   "source": [
    "sorted_m = sortOnMIS(M)\n",
    "sorted_m\n"
   ]
  },
  {
   "cell_type": "code",
   "execution_count": 46,
   "metadata": {},
   "outputs": [
    {
     "data": {
      "text/plain": [
       "[0.1]"
      ]
     },
     "execution_count": 46,
     "metadata": {},
     "output_type": "execute_result"
    }
   ],
   "source": [
    "## accessing values from tuples\n",
    "result = [m[1] for m in sorted_m if m[0] == '100' ]\n",
    "result"
   ]
  },
  {
   "cell_type": "markdown",
   "metadata": {},
   "source": [
    "{1: ['{20,', '30,', '80,', '70,', '50,', '90}'], 2: ['{20,', '10,', '80,', '70}'], 3: ['{10,', '20,', '80}'], 4: ['{20,', '30,', '80}'], 5: ['{20,', '80}'], 6: ['{20,', '30,', '80,', '70,', '50,', '90,', '100,', '120,', '140}']}"
   ]
  },
  {
   "cell_type": "code",
   "execution_count": 52,
   "metadata": {
    "collapsed": true
   },
   "outputs": [],
   "source": [
    "T={1:{'20', '30', '80', '70', '50', '90'},2:{'20', '10', '80', '70'},3:{'10', '20', '80'},4:{'20', '30', '80'},5:{'20', '80'},6:{'20', '30', '80', '70', '50', '90', '100', '120', '140'}}"
   ]
  },
  {
   "cell_type": "code",
   "execution_count": 82,
   "metadata": {},
   "outputs": [
    {
     "data": {
      "text/plain": [
       "{1: {'20', '30', '50', '70', '80', '90'},\n",
       " 2: {'10', '20', '70', '80'},\n",
       " 3: {'10', '20', '80'},\n",
       " 4: {'20', '30', '80'},\n",
       " 5: {'20', '80'},\n",
       " 6: {'100', '120', '140', '20', '30', '50', '70', '80', '90'}}"
      ]
     },
     "execution_count": 82,
     "metadata": {},
     "output_type": "execute_result"
    }
   ],
   "source": [
    "T"
   ]
  },
  {
   "cell_type": "code",
   "execution_count": 133,
   "metadata": {},
   "outputs": [],
   "source": [
    "##final\n",
    "def init_pass(T,sorted_m):\n",
    "    L = []\n",
    "    supp = calculate_support(T,sorted_m)\n",
    "    first_sorted_m = sorted_m[0]\n",
    "    len_t = len(T)\n",
    "    L.append(first_sorted_m[0])\n",
    "    mis_i = first_sorted_m[1]\n",
    "    for m in sorted_m:\n",
    "        if first_sorted_m[0] not in m:\n",
    "            if supp[m[0]] >= mis_i:\n",
    "                L.append(m[0])\n",
    "    return L,supp"
   ]
  },
  {
   "cell_type": "code",
   "execution_count": 134,
   "metadata": {
    "collapsed": true
   },
   "outputs": [],
   "source": [
    "##final\n",
    "## sorted_m - stores mis in sorted order\n",
    "## T - Dictionary of transactions\n",
    "## supp - Dictionary for all supports of elements in m\n",
    "## L - List of L\n",
    "## F1 - List of Frequent 1\n",
    "def calculate_support(T,sorted_m):\n",
    "    supp={}\n",
    "    len_t = len(T)\n",
    "    for m in sorted_m:\n",
    "        count=0\n",
    "        for t in T.values():\n",
    "            if m[0] in t:\n",
    "                count +=1\n",
    "        supp[m[0]] = count/len_t\n",
    "    return supp"
   ]
  },
  {
   "cell_type": "code",
   "execution_count": 147,
   "metadata": {},
   "outputs": [
    {
     "name": "stdout",
     "output_type": "stream",
     "text": [
      "{'100': 0.16666666666666666, '140': 0.16666666666666666, '70': 0.5, '80': 1.0, '90': 0.3333333333333333, '120': 0.16666666666666666, '20': 1.0, '30': 0.5, '60': 0.0, '40': 0.0, '50': 0.3333333333333333, '10': 0.3333333333333333}\n",
      "[['20']]\n"
     ]
    }
   ],
   "source": [
    "L,supp = init_pass(T,sorted_m)\n",
    "F = []\n",
    "#change this\n",
    "must_have=['20','40','50']\n",
    "F = calculate_F1(L,sorted_m,supp,must_have)\n",
    "print(supp)\n",
    "print(F)"
   ]
  },
  {
   "cell_type": "code",
   "execution_count": 146,
   "metadata": {
    "collapsed": true
   },
   "outputs": [],
   "source": [
    "def calculate_F1(L,sorted_m,supp,must_have):\n",
    "    F1=[]\n",
    "    for l in L:\n",
    "        mis_l = [m[1] for m in sorted_m if m[0] == l]\n",
    "        if supp[l] >= mis_l[0]:\n",
    "            if l in must_have:\n",
    "                F1.append(l)\n",
    "    F.append(F1)\n",
    "    return F"
   ]
  },
  {
   "cell_type": "code",
   "execution_count": null,
   "metadata": {
    "collapsed": true
   },
   "outputs": [],
   "source": []
  }
 ],
 "metadata": {
  "kernelspec": {
   "display_name": "Python 3",
   "language": "python",
   "name": "python3"
  },
  "language_info": {
   "codemirror_mode": {
    "name": "ipython",
    "version": 3
   },
   "file_extension": ".py",
   "mimetype": "text/x-python",
   "name": "python",
   "nbconvert_exporter": "python",
   "pygments_lexer": "ipython3",
   "version": "3.6.3"
  }
 },
 "nbformat": 4,
 "nbformat_minor": 2
}
