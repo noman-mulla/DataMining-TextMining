{
 "cells": [
  {
   "cell_type": "code",
   "execution_count": 1,
   "metadata": {},
   "outputs": [],
   "source": [
    "import re\n",
    "def read_file():\n",
    "    T = {}\n",
    "    M = {}\n",
    "    cannot_be_together = []\n",
    "    must_have = []\n",
    "    t = 1\n",
    "    with open(\"input-data.txt\") as file:\n",
    "        for transaction in file:\n",
    "            transList = []\n",
    "            transarr = re.findall(r'\\{(.*?)\\}',transaction)\n",
    "            str1 = ''.join(transarr)\n",
    "            T[int(t)] = [x.strip() for x in str1.split(',')]\n",
    "            t = t + 1\n",
    "        \n",
    "    with open(\"parameter-file.txt\") as param:\n",
    "        param_data = [line for line in param]\n",
    "    for d in param_data:\n",
    "        if \"MIS\" in d:\n",
    "            match = re.match(r'^.*\\((.*)\\).*= (\\d*\\.\\d*)', d)\n",
    "            M[match.group(1)] = float(match.group(2))\n",
    "        elif \"SDC\" in d:\n",
    "            max_sup_diff = float(re.match(r'.*= (.*)', d).group(1))\n",
    "        elif \"must-have\" in d:\n",
    "            must_have = [x.strip() for x in d.split(':')[1].split('or')]\n",
    "        elif \"cannot_be_together\" in d:\n",
    "            cannot_be_together = re.findall(r'{.*?}',d)\n",
    "    return T,M,max_sup_diff,cannot_be_together,must_have"
   ]
  },
  {
   "cell_type": "code",
   "execution_count": 2,
   "metadata": {
    "collapsed": true
   },
   "outputs": [],
   "source": [
    "##final\n",
    "from operator import itemgetter\n",
    "from collections import OrderedDict\n",
    "def sortOnMIS(M):\n",
    "    #sorted_m = sorted(M.items(), key=operator.itemgetter(1))\n",
    "    sorted_m = sorted(M.items(), key=itemgetter(1))\n",
    "    return sorted_m"
   ]
  },
  {
   "cell_type": "markdown",
   "metadata": {},
   "source": [
    "MIS(10) = 0.43\n",
    "MIS(20) = 0.30\n",
    "MIS(30) = 0.30\n",
    "MIS(40) = 0.40\n",
    "MIS(50) = 0.40\n",
    "MIS(60) = 0.30\n",
    "MIS(70) = 0.20\n",
    "MIS(80) = 0.20\n",
    "MIS(90) = 0.20\n",
    "MIS(100) = 0.10\n",
    "MIS(120) = 0.20\n",
    "MIS(140) = 0.15"
   ]
  },
  {
   "cell_type": "code",
   "execution_count": 3,
   "metadata": {},
   "outputs": [
    {
     "data": {
      "text/plain": [
       "{'10': 0.43,\n",
       " '100': 0.1,\n",
       " '120': 0.2,\n",
       " '140': 0.15,\n",
       " '20': 0.3,\n",
       " '30': 0.3,\n",
       " '40': 0.4,\n",
       " '50': 0.4,\n",
       " '60': 0.3,\n",
       " '70': 0.2,\n",
       " '80': 0.2,\n",
       " '90': 0.2}"
      ]
     },
     "execution_count": 3,
     "metadata": {},
     "output_type": "execute_result"
    }
   ],
   "source": [
    "#M = {\"10\":0.43,\"20\":0.30,\"30\":0.30,\"40\":0.40,\"50\":0.40,\"60\":0.30,\"70\":0.20,\"80\":0.20,\"90\":0.20,\"100\":0.10,\"120\":0.20,\"140\":0.15}\n",
    "#M"
   ]
  },
  {
   "cell_type": "code",
   "execution_count": 4,
   "metadata": {},
   "outputs": [
    {
     "data": {
      "text/plain": [
       "[('100', 0.1),\n",
       " ('140', 0.15),\n",
       " ('70', 0.2),\n",
       " ('80', 0.2),\n",
       " ('90', 0.2),\n",
       " ('120', 0.2),\n",
       " ('20', 0.3),\n",
       " ('30', 0.3),\n",
       " ('60', 0.3),\n",
       " ('40', 0.4),\n",
       " ('50', 0.4),\n",
       " ('10', 0.43)]"
      ]
     },
     "execution_count": 4,
     "metadata": {},
     "output_type": "execute_result"
    }
   ],
   "source": [
    "#sorted_m = sortOnMIS(M)\n",
    "#sorted_m\n"
   ]
  },
  {
   "cell_type": "code",
   "execution_count": 5,
   "metadata": {},
   "outputs": [
    {
     "data": {
      "text/plain": [
       "[0.1]"
      ]
     },
     "execution_count": 5,
     "metadata": {},
     "output_type": "execute_result"
    }
   ],
   "source": [
    "## accessing values from tuples\n",
    "##result = [m[1] for m in sorted_m if m[0] == '100' ]\n",
    "##result"
   ]
  },
  {
   "cell_type": "markdown",
   "metadata": {},
   "source": [
    "{1: ['{20,', '30,', '80,', '70,', '50,', '90}'], 2: ['{20,', '10,', '80,', '70}'], 3: ['{10,', '20,', '80}'], 4: ['{20,', '30,', '80}'], 5: ['{20,', '80}'], 6: ['{20,', '30,', '80,', '70,', '50,', '90,', '100,', '120,', '140}']}"
   ]
  },
  {
   "cell_type": "code",
   "execution_count": 6,
   "metadata": {
    "collapsed": true
   },
   "outputs": [],
   "source": [
    "#T={1:{'20', '30', '80', '70', '50', '90'},2:{'20', '10', '80', '70'},3:{'10', '20', '80'},4:{'20', '30', '80'},5:{'20', '80'},6:{'20', '30', '80', '70', '50', '90', '100', '120', '140'}}"
   ]
  },
  {
   "cell_type": "code",
   "execution_count": 7,
   "metadata": {},
   "outputs": [
    {
     "data": {
      "text/plain": [
       "{1: {'20', '30', '50', '70', '80', '90'},\n",
       " 2: {'10', '20', '70', '80'},\n",
       " 3: {'10', '20', '80'},\n",
       " 4: {'20', '30', '80'},\n",
       " 5: {'20', '80'},\n",
       " 6: {'100', '120', '140', '20', '30', '50', '70', '80', '90'}}"
      ]
     },
     "execution_count": 7,
     "metadata": {},
     "output_type": "execute_result"
    }
   ],
   "source": [
    "#T"
   ]
  },
  {
   "cell_type": "code",
   "execution_count": 3,
   "metadata": {
    "collapsed": true
   },
   "outputs": [],
   "source": [
    "##final\n",
    "def init_pass(T,sorted_m):\n",
    "    L = []\n",
    "    supp = calculate_support(T,sorted_m)\n",
    "    first_sorted_m = sorted_m[0]\n",
    "    len_t = len(T)\n",
    "    L.append(first_sorted_m[0])\n",
    "    mis_i = first_sorted_m[1]\n",
    "    for m in sorted_m:\n",
    "        if first_sorted_m[0] not in m:\n",
    "            if supp[m[0]] >= mis_i:\n",
    "                L.append(m[0])\n",
    "    return L,supp"
   ]
  },
  {
   "cell_type": "code",
   "execution_count": 4,
   "metadata": {
    "collapsed": true
   },
   "outputs": [],
   "source": [
    "##final\n",
    "def calculate_support(T,sorted_m):\n",
    "    supp={}\n",
    "    len_t = len(T)\n",
    "    for m in sorted_m:\n",
    "        count=0\n",
    "        for t in T.values():\n",
    "            if m[0] in t:\n",
    "                count +=1\n",
    "        supp[m[0]] = count/len_t\n",
    "    return supp"
   ]
  },
  {
   "cell_type": "markdown",
   "metadata": {},
   "source": [
    "L,supp = init_pass(T,sorted_m)\n",
    "F = []\n",
    "#change this\n",
    "must_have=['20','40','50']\n",
    "# F = calculate_F1(L,sorted_m,supp,must_have)\n",
    "print(supp)\n",
    "print(F)"
   ]
  },
  {
   "cell_type": "code",
   "execution_count": 11,
   "metadata": {
    "collapsed": true
   },
   "outputs": [],
   "source": [
    "def calculate_F1(L,sorted_m,supp,must_have,F):\n",
    "    F1=[]\n",
    "    for l in L:\n",
    "        mis_l = [m[1] for m in sorted_m if m[0] == l]\n",
    "        if supp[l] >= mis_l[0]:\n",
    "            if l in must_have:\n",
    "                F1.append(l)\n",
    "    F.append(F1)\n",
    "    return F"
   ]
  },
  {
   "cell_type": "code",
   "execution_count": 16,
   "metadata": {},
   "outputs": [],
   "source": [
    "## sorted_m - stores mis in sorted order\n",
    "## T - Dictionary of transactions\n",
    "## supp - Dictionary for all supports of elements in m\n",
    "## L - List of L\n",
    "## F1 - List of Frequent 1\n",
    "def ms_apriori():\n",
    "    T,M,max_sup_diff,cannot_be_together,must_have = read_file()\n",
    "    sorted_m = sortOnMIS(M)\n",
    "    L,supp = init_pass(T,sorted_m)\n",
    "    F=[]\n",
    "    F = calculate_F1(L,sorted_m,supp,must_have,F)\n",
    "    print(F)\n",
    "    k = 2 \n",
    "    \n",
    "    "
   ]
  },
  {
   "cell_type": "code",
   "execution_count": 17,
   "metadata": {},
   "outputs": [
    {
     "name": "stdout",
     "output_type": "stream",
     "text": [
      "[['20']]\n"
     ]
    }
   ],
   "source": [
    "ms_apriori()"
   ]
  },
  {
   "cell_type": "code",
   "execution_count": null,
   "metadata": {
    "collapsed": true
   },
   "outputs": [],
   "source": []
  }
 ],
 "metadata": {
  "kernelspec": {
   "display_name": "Python 3",
   "language": "python",
   "name": "python3"
  },
  "language_info": {
   "codemirror_mode": {
    "name": "ipython",
    "version": 3
   },
   "file_extension": ".py",
   "mimetype": "text/x-python",
   "name": "python",
   "nbconvert_exporter": "python",
   "pygments_lexer": "ipython3",
   "version": "3.6.3"
  }
 },
 "nbformat": 4,
 "nbformat_minor": 2
}
