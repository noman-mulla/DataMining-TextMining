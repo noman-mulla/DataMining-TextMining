{
 "cells": [
  {
   "cell_type": "code",
   "execution_count": 46,
   "metadata": {},
   "outputs": [
    {
     "data": {
      "text/plain": [
       "[('1', 0.003),\n",
       " ('2', 0.007),\n",
       " ('3', 0.01),\n",
       " ('4', 0.013),\n",
       " ('5', 0.016),\n",
       " ('6', 0.02),\n",
       " ('7', 0.023),\n",
       " ('8', 0.026),\n",
       " ('9', 0.029),\n",
       " ('10', 0.033),\n",
       " ('11', 0.036),\n",
       " ('12', 0.039),\n",
       " ('13', 0.042),\n",
       " ('14', 0.046),\n",
       " ('15', 0.049),\n",
       " ('16', 0.052),\n",
       " ('17', 0.056),\n",
       " ('18', 0.059),\n",
       " ('19', 0.062),\n",
       " ('20', 0.065),\n",
       " ('21', 0.069),\n",
       " ('22', 0.072),\n",
       " ('23', 0.075),\n",
       " ('24', 0.078),\n",
       " ('25', 0.082),\n",
       " ('26', 0.085),\n",
       " ('27', 0.088),\n",
       " ('28', 0.091),\n",
       " ('29', 0.095),\n",
       " ('30', 0.098),\n",
       " ('31', 0.101),\n",
       " ('32', 0.104),\n",
       " ('33', 0.108),\n",
       " ('34', 0.111),\n",
       " ('35', 0.114),\n",
       " ('36', 0.118),\n",
       " ('37', 0.121),\n",
       " ('38', 0.124),\n",
       " ('39', 0.127),\n",
       " ('40', 0.131),\n",
       " ('41', 0.134),\n",
       " ('42', 0.137),\n",
       " ('43', 0.14),\n",
       " ('44', 0.144),\n",
       " ('45', 0.147),\n",
       " ('46', 0.15),\n",
       " ('47', 0.153),\n",
       " ('48', 0.157),\n",
       " ('49', 0.16)]"
      ]
     },
     "execution_count": 46,
     "metadata": {},
     "output_type": "execute_result"
    }
   ],
   "source": [
    "T,M,max_sup_diff,cannot_be_together,must_have = read_file()\n",
    "sorted_m = sortOnMIS(M)\n",
    "sorted_m\n",
    "L,supp = init_pass(T,sorted_m)\n",
    "F=[]\n",
    "FCount=[[]]\n",
    "FtailCount=[[]]\n",
    "F = calculate_F1(L,sorted_m,supp,must_have,F,T)\n",
    "F\n",
    "sorted_m"
   ]
  },
  {
   "cell_type": "code",
   "execution_count": 2,
   "metadata": {},
   "outputs": [],
   "source": [
    "import re\n",
    "def read_file():\n",
    "    T = {}\n",
    "    M = {}\n",
    "    cannot_be_together = []\n",
    "    must_have = []\n",
    "    t = 1\n",
    "    with open(\"data2.txt\") as file:\n",
    "        for transaction in file:\n",
    "            transList = []\n",
    "            transarr = re.findall(r'\\{(.*?)\\}',transaction)\n",
    "            str1 = ''.join(transarr)\n",
    "            T[int(t)] = [x.strip() for x in str1.split(',')]\n",
    "            t = t + 1\n",
    "        \n",
    "    with open(\"para2-1.txt\") as param:\n",
    "        param_data = [line for line in param]\n",
    "    for d in param_data:\n",
    "        if \"MIS\" in d:\n",
    "            match = re.match(r'^.*\\((.*)\\).*= (\\d*\\.\\d*)', d)\n",
    "            M[match.group(1)] = float(match.group(2))\n",
    "        elif \"SDC\" in d:\n",
    "            max_sup_diff = float(re.match(r'.*= (.*)', d).group(1))\n",
    "        elif \"must-have\" in d:\n",
    "            must_have = [x.strip() for x in d.split(':')[1].split('or')]\n",
    "        elif \"cannot_be_together\" in d:\n",
    "            cannot_be_together = re.findall(r'{.*?}',d)\n",
    "            \n",
    "    return T,M,max_sup_diff,cannot_be_together,must_have"
   ]
  },
  {
   "cell_type": "code",
   "execution_count": 4,
   "metadata": {
    "collapsed": true
   },
   "outputs": [],
   "source": [
    "##final\n",
    "from operator import itemgetter\n",
    "from collections import OrderedDict\n",
    "def sortOnMIS(M):\n",
    "    #sorted_m = sorted(M.items(), key=operator.itemgetter(1))\n",
    "    sorted_m = sorted(M.items(), key=itemgetter(1))\n",
    "    return sorted_m"
   ]
  },
  {
   "cell_type": "markdown",
   "metadata": {},
   "source": [
    "MIS(10) = 0.43\n",
    "MIS(20) = 0.30\n",
    "MIS(30) = 0.30\n",
    "MIS(40) = 0.40\n",
    "MIS(50) = 0.40\n",
    "MIS(60) = 0.30\n",
    "MIS(70) = 0.20\n",
    "MIS(80) = 0.20\n",
    "MIS(90) = 0.20\n",
    "MIS(100) = 0.10\n",
    "MIS(120) = 0.20\n",
    "MIS(140) = 0.15"
   ]
  },
  {
   "cell_type": "code",
   "execution_count": 3,
   "metadata": {},
   "outputs": [
    {
     "data": {
      "text/plain": [
       "{'10': 0.43,\n",
       " '100': 0.1,\n",
       " '120': 0.2,\n",
       " '140': 0.15,\n",
       " '20': 0.3,\n",
       " '30': 0.3,\n",
       " '40': 0.4,\n",
       " '50': 0.4,\n",
       " '60': 0.3,\n",
       " '70': 0.2,\n",
       " '80': 0.2,\n",
       " '90': 0.2}"
      ]
     },
     "execution_count": 3,
     "metadata": {},
     "output_type": "execute_result"
    }
   ],
   "source": [
    "#M = {\"10\":0.43,\"20\":0.30,\"30\":0.30,\"40\":0.40,\"50\":0.40,\"60\":0.30,\"70\":0.20,\"80\":0.20,\"90\":0.20,\"100\":0.10,\"120\":0.20,\"140\":0.15}\n",
    "#M"
   ]
  },
  {
   "cell_type": "code",
   "execution_count": 4,
   "metadata": {},
   "outputs": [
    {
     "data": {
      "text/plain": [
       "[('100', 0.1),\n",
       " ('140', 0.15),\n",
       " ('70', 0.2),\n",
       " ('80', 0.2),\n",
       " ('90', 0.2),\n",
       " ('120', 0.2),\n",
       " ('20', 0.3),\n",
       " ('30', 0.3),\n",
       " ('60', 0.3),\n",
       " ('40', 0.4),\n",
       " ('50', 0.4),\n",
       " ('10', 0.43)]"
      ]
     },
     "execution_count": 4,
     "metadata": {},
     "output_type": "execute_result"
    }
   ],
   "source": [
    "#sorted_m = sortOnMIS(M)\n",
    "#sorted_m\n"
   ]
  },
  {
   "cell_type": "code",
   "execution_count": 5,
   "metadata": {},
   "outputs": [
    {
     "data": {
      "text/plain": [
       "[0.1]"
      ]
     },
     "execution_count": 5,
     "metadata": {},
     "output_type": "execute_result"
    }
   ],
   "source": [
    "## accessing values from tuples\n",
    "##result = [m[1] for m in sorted_m if m[0] == '100' ]\n",
    "##result"
   ]
  },
  {
   "cell_type": "markdown",
   "metadata": {},
   "source": [
    "{1: ['{20,', '30,', '80,', '70,', '50,', '90}'], 2: ['{20,', '10,', '80,', '70}'], 3: ['{10,', '20,', '80}'], 4: ['{20,', '30,', '80}'], 5: ['{20,', '80}'], 6: ['{20,', '30,', '80,', '70,', '50,', '90,', '100,', '120,', '140}']}"
   ]
  },
  {
   "cell_type": "code",
   "execution_count": 6,
   "metadata": {
    "collapsed": true
   },
   "outputs": [],
   "source": [
    "#T={1:{'20', '30', '80', '70', '50', '90'},2:{'20', '10', '80', '70'},3:{'10', '20', '80'},4:{'20', '30', '80'},5:{'20', '80'},6:{'20', '30', '80', '70', '50', '90', '100', '120', '140'}}"
   ]
  },
  {
   "cell_type": "code",
   "execution_count": 7,
   "metadata": {},
   "outputs": [
    {
     "data": {
      "text/plain": [
       "{1: {'20', '30', '50', '70', '80', '90'},\n",
       " 2: {'10', '20', '70', '80'},\n",
       " 3: {'10', '20', '80'},\n",
       " 4: {'20', '30', '80'},\n",
       " 5: {'20', '80'},\n",
       " 6: {'100', '120', '140', '20', '30', '50', '70', '80', '90'}}"
      ]
     },
     "execution_count": 7,
     "metadata": {},
     "output_type": "execute_result"
    }
   ],
   "source": [
    "#T"
   ]
  },
  {
   "cell_type": "code",
   "execution_count": 25,
   "metadata": {
    "collapsed": true
   },
   "outputs": [],
   "source": [
    "##final\n",
    "def init_pass(T,sorted_m):\n",
    "    L = []\n",
    "    supp = calculate_support(T,sorted_m)\n",
    "    first_sorted_m = sorted_m[0]\n",
    "    len_t = len(T)\n",
    "    L.append(first_sorted_m[0])\n",
    "    mis_i = first_sorted_m[1]\n",
    "    for m in sorted_m:\n",
    "        if first_sorted_m[0] not in m:\n",
    "            if supp[m[0]] >= mis_i:\n",
    "                L.append(m[0])\n",
    "    return L,supp"
   ]
  },
  {
   "cell_type": "code",
   "execution_count": 26,
   "metadata": {
    "collapsed": true
   },
   "outputs": [],
   "source": [
    "##final\n",
    "def calculate_support(T,sorted_m):\n",
    "    supp={}\n",
    "    len_t = len(T)\n",
    "    for m in sorted_m:\n",
    "        count=0\n",
    "        for t in T.values():\n",
    "            if m[0] in t:\n",
    "                count +=1\n",
    "        supp[m[0]] = count/len_t\n",
    "    return supp"
   ]
  },
  {
   "cell_type": "markdown",
   "metadata": {},
   "source": [
    "L,supp = init_pass(T,sorted_m)\n",
    "F = []\n",
    "#change this\n",
    "must_have=['20','40','50']\n",
    "# F = calculate_F1(L,sorted_m,supp,must_have)\n",
    "print(supp)\n",
    "print(F)"
   ]
  },
  {
   "cell_type": "code",
   "execution_count": 27,
   "metadata": {
    "collapsed": true
   },
   "outputs": [],
   "source": [
    "def calculate_F1(L,sorted_m,supp,must_have,F,T):\n",
    "    F1=[]\n",
    "    fNewCount=[]\n",
    "    fNewTailCount=[]\n",
    "    for l in L:\n",
    "        mis_l = [m[1] for m in sorted_m if m[0] == l]\n",
    "        if supp[l] >= mis_l[0]:\n",
    "            if must_have:\n",
    "                if l in must_have:\n",
    "                    F1.append(l)\n",
    "            else:\n",
    "                F1.append(l)\n",
    "                \n",
    "    \n",
    "    \n",
    "    F.append(F1)\n",
    "    return F"
   ]
  },
  {
   "cell_type": "code",
   "execution_count": 47,
   "metadata": {},
   "outputs": [],
   "source": [
    "def MS_candidate_gen(f,supp,max_sup_diff,sorted_m):\n",
    "    C = []\n",
    "    for f1 in f:\n",
    "        for i in range(f.index(f1)+1,len(f)):\n",
    "            f2 = f[i]\n",
    "            if f1[len(f1)-1] != f2[len(f2)-1]:\n",
    "                if supp[f1[len(f1)-1]] - supp[f2[len(f2)-1]] <= max_sup_diff:\n",
    "                    mis_f1 = [m[1] for m in sorted_m if m[0] == f1[len(f1)-1]]\n",
    "                    mis_f2 = [m[1] for m in sorted_m if m[0] == f1[len(f2)-1]]\n",
    "                    if mis_f1 < mis_f2:\n",
    "                        f1.append(f2[len(f2)-1])\n",
    "                        C.append(f1)\n",
    "                        c = C[len(C)-1]\n",
    "                        tempS = findsubsets(c,len(c)-1)\n",
    "                        print(tempS)\n",
    "                        \n",
    "            \n",
    "    return C    "
   ]
  },
  {
   "cell_type": "code",
   "execution_count": 48,
   "metadata": {
    "collapsed": true
   },
   "outputs": [],
   "source": [
    "def level2_candidate_gen(L,max_sup_diff,supp,sorted_m):\n",
    "    C2 = []\n",
    "    for l in L:\n",
    "        mis_l = [m[1] for m in sorted_m if m[0] == l]\n",
    "        if supp[l] >= mis_l[0]:\n",
    "            count = L.index(l) + 1\n",
    "            for i in range(count, len(L)):\n",
    "                if (supp[L[i]] >= mis_l[0] and abs(supp[L[i]] - supp[l]) <= max_sup_diff) :\n",
    "                    C2.append([l,L[i]])\n",
    "            count = count + 1\n",
    "    return C2"
   ]
  },
  {
   "cell_type": "code",
   "execution_count": 49,
   "metadata": {},
   "outputs": [],
   "source": [
    "def apply_item_constraints(F, cannot_be_together, must_have,fCount,fTailCount):\n",
    "    F1 = []\n",
    "    fNewCount=[]\n",
    "    fNewTailCount=[]\n",
    "    \n",
    "    for f in F:\n",
    "        remove = False\n",
    "        if must_have:\n",
    "            if set(f).intersection(set(must_have)):\n",
    "                for items in cannot_be_together:\n",
    "                    itemsarr = re.findall(r'\\{(.*?)\\}',items)\n",
    "                    itemstr = ''.join(itemsarr)\n",
    "                    itemList = [x.strip() for x in itemstr.split(\",\")]\n",
    "                    if set(itemList).issubset(set(f)):\n",
    "                        remove = True\n",
    "                        break\n",
    "                if not remove :\n",
    "                    i = F.index(f)\n",
    "                    if fCount:\n",
    "                        fNewCount.append(fCount[i])\n",
    "                    if fTailCount:\n",
    "                        fNewTailCount.append(fTailCount[i])\n",
    "                    F1.append(f)\n",
    "                    \n",
    "        else:\n",
    "            for items in cannot_be_together:\n",
    "                    itemsarr = re.findall(r'\\{(.*?)\\}',items)\n",
    "                    itemstr = ''.join(itemsarr)\n",
    "                    itemList = [x.strip() for x in itemstr.split(\",\")]\n",
    "                    if set(itemList).issubset(set(f)):\n",
    "                        remove = True\n",
    "                        break\n",
    "            if not remove :\n",
    "                i = F.index(f)\n",
    "                if fCount:\n",
    "                    fNewCount.append(fCount[i])\n",
    "                if fTailCount:\n",
    "                    fNewTailCount.append(fTailCount[i])\n",
    "                F1.append(f)\n",
    "                \n",
    "            \n",
    "                \n",
    "    return F1,fNewCount,fNewTailCount"
   ]
  },
  {
   "cell_type": "code",
   "execution_count": 54,
   "metadata": {},
   "outputs": [],
   "source": [
    "## sorted_m - stores mis in sorted order\n",
    "## T - Dictionary of transactions\n",
    "## supp - Dictionary for all supports of elements in m\n",
    "## L - List of L\n",
    "## F1 - List of Frequent 1\n",
    "def ms_apriori():\n",
    "    T,M,max_sup_diff,cannot_be_together,must_have = read_file()\n",
    "    sorted_m = sortOnMIS(M)\n",
    "    L,supp = init_pass(T,sorted_m)\n",
    "    F=[]\n",
    "    FCount=[[]]\n",
    "    FtailCount=[[]]\n",
    "    F = calculate_F1(L,sorted_m,supp,must_have,F,T)\n",
    "    k = 1 \n",
    "    C=[[]]\n",
    "    while F[k-1]:\n",
    "        print(F[k-1])\n",
    "        print(FCount[k-1])\n",
    "        print(FtailCount[k-1])\n",
    "        if k == 1:\n",
    "            C.append(level2_candidate_gen(L,max_sup_diff,supp,sorted_m))\n",
    "        else:\n",
    "            C.append(MS_candidate_gen(F[k-1],supp,max_sup_diff,sorted_m))\n",
    "        \n",
    "        cCount=[0]*len(C[k])\n",
    "        fCount=[]\n",
    "        tailCount = [0]*len(C[k])\n",
    "        fTailCount=[]\n",
    "        for t in T.values():\n",
    "            c_count = 0 \n",
    "            for c in C[k]:\n",
    "                if set(c).issubset(t):\n",
    "                    cCount[c_count]=cCount[c_count]+1\n",
    "                if set(c[1:]).issubset(t):\n",
    "                    tailCount[c_count] = tailCount[c_count]+1\n",
    "                \n",
    "                c_count = c_count+1\n",
    "        c_count=0\n",
    "        f=[]\n",
    "        for c in C[k]:\n",
    "            mis_c1 = [m[1] for m in sorted_m if m[0] == c[0]]\n",
    "            if cCount[c_count]/len(T) >= mis_c1[0]:\n",
    "                f.append(c)\n",
    "                fCount.append(cCount[c_count])\n",
    "                fTailCount.append(tailCount[c_count])\n",
    "            c_count = c_count+1\n",
    "            \n",
    "        F.append(f)\n",
    "        FCount.append(fCount)\n",
    "        FtailCount.append(fTailCount)\n",
    "        print(F[k])\n",
    "        f,fCount,fTailCount = apply_item_constraints(F[k], cannot_be_together, must_have,FCount[k],FtailCount[k])\n",
    "        \n",
    "        print(f)\n",
    "        F.pop()\n",
    "        FCount.pop()\n",
    "        FtailCount.pop()\n",
    "        F.append(f)\n",
    "        FCount.append(fCount)\n",
    "        FtailCount.append(fTailCount)\n",
    "        \n",
    "        k =k+1\n",
    "    \n",
    "    \n",
    "    display(F,FtailCount,FCount)\n",
    "    "
   ]
  },
  {
   "cell_type": "code",
   "execution_count": 55,
   "metadata": {
    "scrolled": true
   },
   "outputs": [
    {
     "name": "stdout",
     "output_type": "stream",
     "text": [
      "['1', '2', '3', '13']\n",
      "[]\n",
      "[]\n",
      "[['1', '30'], ['2', '25']]\n",
      "[['1', '30'], ['2', '25']]\n",
      "[['1', '30'], ['2', '25']]\n",
      "[1, 2]\n",
      "[13, 13]\n",
      "[]\n",
      "[]\n"
     ]
    },
    {
     "ename": "NameError",
     "evalue": "name 'w' is not defined",
     "output_type": "error",
     "traceback": [
      "\u001b[0;31m---------------------------------------------------------------------------\u001b[0m",
      "\u001b[0;31mNameError\u001b[0m                                 Traceback (most recent call last)",
      "\u001b[0;32m<ipython-input-55-e5d569f9cf93>\u001b[0m in \u001b[0;36m<module>\u001b[0;34m()\u001b[0m\n\u001b[0;32m----> 1\u001b[0;31m \u001b[0mms_apriori\u001b[0m\u001b[0;34m(\u001b[0m\u001b[0;34m)\u001b[0m\u001b[0;34m\u001b[0m\u001b[0m\n\u001b[0m",
      "\u001b[0;32m<ipython-input-54-bec4fd8d2e51>\u001b[0m in \u001b[0;36mms_apriori\u001b[0;34m()\u001b[0m\n\u001b[1;32m     63\u001b[0m \u001b[0;34m\u001b[0m\u001b[0m\n\u001b[1;32m     64\u001b[0m \u001b[0;34m\u001b[0m\u001b[0m\n\u001b[0;32m---> 65\u001b[0;31m     \u001b[0mdisplay\u001b[0m\u001b[0;34m(\u001b[0m\u001b[0mF\u001b[0m\u001b[0;34m,\u001b[0m\u001b[0mFtailCount\u001b[0m\u001b[0;34m,\u001b[0m\u001b[0mFCount\u001b[0m\u001b[0;34m)\u001b[0m\u001b[0;34m\u001b[0m\u001b[0m\n\u001b[0m\u001b[1;32m     66\u001b[0m \u001b[0;34m\u001b[0m\u001b[0m\n",
      "\u001b[0;32m<ipython-input-53-c7a6041e02ac>\u001b[0m in \u001b[0;36mdisplay\u001b[0;34m(F, tail_list, count_list)\u001b[0m\n\u001b[1;32m      1\u001b[0m \u001b[0;32mdef\u001b[0m \u001b[0mdisplay\u001b[0m\u001b[0;34m(\u001b[0m\u001b[0mF\u001b[0m\u001b[0;34m,\u001b[0m\u001b[0mtail_list\u001b[0m\u001b[0;34m,\u001b[0m\u001b[0mcount_list\u001b[0m\u001b[0;34m)\u001b[0m\u001b[0;34m:\u001b[0m\u001b[0;34m\u001b[0m\u001b[0m\n\u001b[0;32m----> 2\u001b[0;31m     \u001b[0mout_file\u001b[0m \u001b[0;34m=\u001b[0m \u001b[0mopen\u001b[0m\u001b[0;34m(\u001b[0m\u001b[0;34m\"output-file\"\u001b[0m\u001b[0;34m,\u001b[0m \u001b[0mw\u001b[0m\u001b[0;34m)\u001b[0m\u001b[0;34m\u001b[0m\u001b[0m\n\u001b[0m\u001b[1;32m      3\u001b[0m     \u001b[0;32mfor\u001b[0m \u001b[0mk\u001b[0m \u001b[0;32min\u001b[0m \u001b[0mF\u001b[0m\u001b[0;34m:\u001b[0m\u001b[0;34m\u001b[0m\u001b[0m\n\u001b[1;32m      4\u001b[0m         \u001b[0mout_file\u001b[0m\u001b[0;34m.\u001b[0m\u001b[0mwrite\u001b[0m\u001b[0;34m(\u001b[0m\u001b[0;34m'Frequent '\u001b[0m \u001b[0;34m+\u001b[0m \u001b[0mstr\u001b[0m\u001b[0;34m(\u001b[0m\u001b[0mk\u001b[0m\u001b[0;34m)\u001b[0m \u001b[0;34m+\u001b[0m \u001b[0;34m'-itemsets\\n'\u001b[0m\u001b[0;34m)\u001b[0m\u001b[0;34m\u001b[0m\u001b[0m\n\u001b[1;32m      5\u001b[0m         \u001b[0;32mfor\u001b[0m \u001b[0mf\u001b[0m \u001b[0;32min\u001b[0m \u001b[0mF\u001b[0m\u001b[0;34m[\u001b[0m\u001b[0mk\u001b[0m\u001b[0;34m]\u001b[0m\u001b[0;34m:\u001b[0m\u001b[0;34m\u001b[0m\u001b[0m\n",
      "\u001b[0;31mNameError\u001b[0m: name 'w' is not defined"
     ]
    }
   ],
   "source": [
    "ms_apriori()"
   ]
  },
  {
   "cell_type": "code",
   "execution_count": 65,
   "metadata": {},
   "outputs": [
    {
     "name": "stdout",
     "output_type": "stream",
     "text": [
      "[['100', '20'], ['30', '60'], ['20', '60']]\n",
      "1.0\n",
      "0.0\n",
      "1.0\n",
      "0.0\n",
      "0.0\n",
      "0.0\n"
     ]
    }
   ],
   "source": [
    "T,M,max_sup_diff,cannot_be_together,must_have = read_file()\n",
    "sorted_m = sortOnMIS(M)\n",
    "L,supp = init_pass(T,sorted_m)\n",
    "f= [['100','20'],['30','60'],['20','60']]\n",
    "MS_candidate_gen(f,supp,max_sup_diff)"
   ]
  },
  {
   "cell_type": "code",
   "execution_count": 71,
   "metadata": {},
   "outputs": [
    {
     "data": {
      "text/plain": [
       "True"
      ]
     },
     "execution_count": 71,
     "metadata": {},
     "output_type": "execute_result"
    }
   ],
   "source": [
    "c=['20']\n",
    "set(c).issubset(T[1])"
   ]
  },
  {
   "cell_type": "code",
   "execution_count": 26,
   "metadata": {
    "collapsed": true
   },
   "outputs": [],
   "source": [
    "import itertools\n",
    "def findsubsets(S,m):\n",
    "    return set(itertools.combinations(S, m))"
   ]
  },
  {
   "cell_type": "code",
   "execution_count": 27,
   "metadata": {},
   "outputs": [
    {
     "name": "stdout",
     "output_type": "stream",
     "text": [
      "{('100', '200'), ('100', '300'), ('200', '300')}\n"
     ]
    }
   ],
   "source": [
    "S=['100','200','300']\n",
    "m=2\n",
    "print(findsubsets(S,m))"
   ]
  },
  {
   "cell_type": "code",
   "execution_count": 53,
   "metadata": {},
   "outputs": [],
   "source": [
    "def display(F,tail_list,count_list):\n",
    "    out_file = open(\"output-file\", 'w')\n",
    "    for k in F:\n",
    "        out_file.write('Frequent ' + str(k) + '-itemsets\\n')\n",
    "        for f in F[k]:\n",
    "            if k == 1:\n",
    "                out_file.write('\\n    ' + str(count[f[0]]) + ' : {' + ','.join(set(f)) + '}')\n",
    "            else:\n",
    "                tail_count = 0\n",
    "                for tc in tail_list[k]:\n",
    "                    tail_count = tc[f]\n",
    "                for c in count_list[k]:\n",
    "                    count = c[f]\n",
    "                out_file.write(\"\\n    \" + str(count) + \" : \" + '{' + ', '.join(f) + '}')\n",
    "                out_file.write(\"\\nTailcount = \" + str(tail_count))\n",
    "        out_file.write(\"\\n\\n    Total number of frequent \"+ str(k) + \"-itemsets = \" + str(len(F[k])) + \"\\n\\n\\n\")"
   ]
  },
  {
   "cell_type": "code",
   "execution_count": null,
   "metadata": {
    "collapsed": true
   },
   "outputs": [],
   "source": []
  }
 ],
 "metadata": {
  "kernelspec": {
   "display_name": "Python 3",
   "language": "python",
   "name": "python3"
  },
  "language_info": {
   "codemirror_mode": {
    "name": "ipython",
    "version": 3
   },
   "file_extension": ".py",
   "mimetype": "text/x-python",
   "name": "python",
   "nbconvert_exporter": "python",
   "pygments_lexer": "ipython3",
   "version": "3.6.3"
  }
 },
 "nbformat": 4,
 "nbformat_minor": 2
}
