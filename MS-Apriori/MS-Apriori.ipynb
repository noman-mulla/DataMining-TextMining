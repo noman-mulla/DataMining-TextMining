{
 "cells": [
  {
   "cell_type": "code",
   "execution_count": 63,
   "metadata": {},
   "outputs": [
    {
     "data": {
      "text/plain": [
       "['{20, 50}']"
      ]
     },
     "execution_count": 63,
     "metadata": {},
     "output_type": "execute_result"
    }
   ],
   "source": [
    "cannot_be_together"
   ]
  },
  {
   "cell_type": "code",
   "execution_count": 20,
   "metadata": {},
   "outputs": [
    {
     "data": {
      "text/plain": [
       "[['30', '60']]"
      ]
     },
     "execution_count": 20,
     "metadata": {},
     "output_type": "execute_result"
    }
   ],
   "source": [
    "T,M,max_sup_diff,cannot_be_together,must_have = read_file()\n",
    "sorted_m = sortOnMIS(M)\n",
    "sorted_m\n",
    "L,supp = init_pass(T,sorted_m)\n",
    "F=[]\n",
    "FCount=[[]]\n",
    "FtailCount=[[]]\n",
    "F = calculate_F1(L,sorted_m,supp,must_have,F,T)\n",
    "F"
   ]
  },
  {
   "cell_type": "code",
   "execution_count": 229,
   "metadata": {},
   "outputs": [],
   "source": [
    "import re\n",
    "def read_file():\n",
    "    T = {}\n",
    "    M = {}\n",
    "    cannot_be_together = []\n",
    "    must_have = []\n",
    "    t = 1\n",
    "    with open(\"data1.txt\") as file:\n",
    "        for transaction in file:\n",
    "            transList = []\n",
    "            transarr = re.findall(r'\\{(.*?)\\}',transaction)\n",
    "            str1 = ''.join(transarr)\n",
    "            T[int(t)] = [x.strip() for x in str1.split(',')]\n",
    "            t = t + 1\n",
    "        \n",
    "    with open(\"para1-1.txt\") as param:\n",
    "        param_data = [line for line in param]\n",
    "    for d in param_data:\n",
    "        if \"MIS\" in d:\n",
    "            match = re.match(r'^.*\\((.*)\\).*= (\\d*\\.\\d*)', d)\n",
    "            M[match.group(1)] = float(match.group(2))\n",
    "        elif \"SDC\" in d:\n",
    "            max_sup_diff = float(re.match(r'.*= (.*)', d).group(1))\n",
    "        elif \"must-have\" in d:\n",
    "            must_have = [x.strip() for x in d.split(':')[1].split('or')]\n",
    "        elif \"cannot_be_together\" in d:\n",
    "            cannot_be_together = re.findall(r'{.*?}',d)\n",
    "            \n",
    "    return T,M,max_sup_diff,cannot_be_together,must_have"
   ]
  },
  {
   "cell_type": "code",
   "execution_count": 169,
   "metadata": {
    "collapsed": true
   },
   "outputs": [],
   "source": [
    "##final\n",
    "from operator import itemgetter\n",
    "from collections import OrderedDict\n",
    "def sortOnMIS(M):\n",
    "    #sorted_m = sorted(M.items(), key=operator.itemgetter(1))\n",
    "    sorted_m = sorted(M.items(), key=itemgetter(1))\n",
    "    return sorted_m"
   ]
  },
  {
   "cell_type": "markdown",
   "metadata": {},
   "source": [
    "MIS(10) = 0.43\n",
    "MIS(20) = 0.30\n",
    "MIS(30) = 0.30\n",
    "MIS(40) = 0.40\n",
    "MIS(50) = 0.40\n",
    "MIS(60) = 0.30\n",
    "MIS(70) = 0.20\n",
    "MIS(80) = 0.20\n",
    "MIS(90) = 0.20\n",
    "MIS(100) = 0.10\n",
    "MIS(120) = 0.20\n",
    "MIS(140) = 0.15"
   ]
  },
  {
   "cell_type": "code",
   "execution_count": 170,
   "metadata": {},
   "outputs": [],
   "source": [
    "#M = {\"10\":0.43,\"20\":0.30,\"30\":0.30,\"40\":0.40,\"50\":0.40,\"60\":0.30,\"70\":0.20,\"80\":0.20,\"90\":0.20,\"100\":0.10,\"120\":0.20,\"140\":0.15}\n",
    "#M"
   ]
  },
  {
   "cell_type": "code",
   "execution_count": 171,
   "metadata": {},
   "outputs": [],
   "source": [
    "#sorted_m = sortOnMIS(M)\n",
    "#sorted_m\n"
   ]
  },
  {
   "cell_type": "code",
   "execution_count": 172,
   "metadata": {},
   "outputs": [],
   "source": [
    "## accessing values from tuples\n",
    "##result = [m[1] for m in sorted_m if m[0] == '100' ]\n",
    "##result"
   ]
  },
  {
   "cell_type": "markdown",
   "metadata": {},
   "source": [
    "{1: ['{20,', '30,', '80,', '70,', '50,', '90}'], 2: ['{20,', '10,', '80,', '70}'], 3: ['{10,', '20,', '80}'], 4: ['{20,', '30,', '80}'], 5: ['{20,', '80}'], 6: ['{20,', '30,', '80,', '70,', '50,', '90,', '100,', '120,', '140}']}"
   ]
  },
  {
   "cell_type": "code",
   "execution_count": 173,
   "metadata": {
    "collapsed": true
   },
   "outputs": [],
   "source": [
    "#T={1:{'20', '30', '80', '70', '50', '90'},2:{'20', '10', '80', '70'},3:{'10', '20', '80'},4:{'20', '30', '80'},5:{'20', '80'},6:{'20', '30', '80', '70', '50', '90', '100', '120', '140'}}"
   ]
  },
  {
   "cell_type": "code",
   "execution_count": 174,
   "metadata": {},
   "outputs": [],
   "source": [
    "#T"
   ]
  },
  {
   "cell_type": "code",
   "execution_count": 175,
   "metadata": {
    "collapsed": true
   },
   "outputs": [],
   "source": [
    "##final\n",
    "def init_pass(T,sorted_m):\n",
    "    L = []\n",
    "    supp = calculate_support(T,sorted_m)\n",
    "    first_sorted_m = sorted_m[0]\n",
    "    len_t = len(T)\n",
    "    L.append(first_sorted_m[0])\n",
    "    mis_i = first_sorted_m[1]\n",
    "    for m in sorted_m:\n",
    "        if first_sorted_m[0] not in m:\n",
    "            if supp[m[0]] >= mis_i:\n",
    "                L.append(m[0])\n",
    "    return L,supp"
   ]
  },
  {
   "cell_type": "code",
   "execution_count": 176,
   "metadata": {
    "collapsed": true
   },
   "outputs": [],
   "source": [
    "##final\n",
    "def calculate_support(T,sorted_m):\n",
    "    supp={}\n",
    "    len_t = len(T)\n",
    "    for m in sorted_m:\n",
    "        count=0\n",
    "        for t in T.values():\n",
    "            if m[0] in t:\n",
    "                count +=1\n",
    "        supp[m[0]] = count/len_t\n",
    "    return supp"
   ]
  },
  {
   "cell_type": "markdown",
   "metadata": {},
   "source": [
    "L,supp = init_pass(T,sorted_m)\n",
    "F = []\n",
    "#change this\n",
    "must_have=['20','40','50']\n",
    "# F = calculate_F1(L,sorted_m,supp,must_have)\n",
    "print(supp)\n",
    "print(F)"
   ]
  },
  {
   "cell_type": "code",
   "execution_count": 223,
   "metadata": {
    "collapsed": true
   },
   "outputs": [],
   "source": [
    "def calculate_F1(L,sorted_m,supp,must_have,F,T):\n",
    "    F1=[]\n",
    "    newF=[]\n",
    "    fNewCount=[]\n",
    "    fNewTailCount=[]\n",
    "    cCount=[]\n",
    "    for l in L:\n",
    "        F1=[]\n",
    "        mis_l = [m[1] for m in sorted_m if m[0] == l]\n",
    "        if supp[l] >= mis_l[0]:\n",
    "            if must_have:\n",
    "                if l in must_have:\n",
    "                    F1.append(l)\n",
    "                    \n",
    "            else:\n",
    "                F1.append(l)\n",
    "                \n",
    "        if F1:\n",
    "            newF.append(F1)\n",
    "                \n",
    "                \n",
    "            \n",
    "            \n",
    "    \n",
    "    for f in newF:\n",
    "        c_count = 0\n",
    "        for t in T.values():\n",
    "            if set(f).issubset(t):\n",
    "                    c_count = c_count+1\n",
    "        \n",
    "        fNewCount.append(c_count)\n",
    "                \n",
    "                \n",
    "            \n",
    "\n",
    "    \n",
    "    return newF,fNewCount"
   ]
  },
  {
   "cell_type": "code",
   "execution_count": 224,
   "metadata": {},
   "outputs": [],
   "source": [
    "def MS_candidate_gen(f,supp,max_sup_diff,sorted_m):\n",
    "    C = []\n",
    "    for f1 in f:\n",
    "        for i in range(f.index(f1)+1,len(f)):\n",
    "            f2 = f[i]\n",
    "            if f2[:len(f2)-1] == f1[:len(f1)-1] and len(set(f1).union(f2)) == (len(f1)+1) and f1[len(f1)-1] != f2[len(f2)-1]:\n",
    "                if supp[f1[len(f1)-1]] - supp[f2[len(f2)-1]] <= max_sup_diff:\n",
    "                    mis_f1 = [m[1] for m in sorted_m if m[0] == f1[len(f1)-1]]\n",
    "                    mis_f2 = [m[1] for m in sorted_m if m[0] == f2[len(f2)-1]]\n",
    "                    if mis_f1 < mis_f2:\n",
    "                        \n",
    "                        unionf1f2 = list(f1)\n",
    "                        unionf1f2.append(f2[len(f2)-1])\n",
    "                        if unionf1f2 not in C:\n",
    "                            C.append(unionf1f2)\n",
    "                            c = C[len(C)-1]\n",
    "                            tempS = list(findsubsets(c,len(c)-1))\n",
    "                            listS=[]\n",
    "                            for s in tempS:\n",
    "                                listS.append(list(s))\n",
    "                            for s in listS:\n",
    "                                mis_c2 = [m[1] for m in sorted_m if m[0] == c[1]]\n",
    "                                mis_c1 = [m[1] for m in sorted_m if m[0] == c[0]] \n",
    "                                if set(c[0]).issubset(s) or mis_c2 == mis_c1:\n",
    "                \n",
    "                                    for fz in f:\n",
    "                                        if not set(s).issubset(fz):\n",
    "                                            if c in C:\n",
    "                                                C.remove(c)\n",
    "            \n",
    "    return C    "
   ]
  },
  {
   "cell_type": "code",
   "execution_count": 225,
   "metadata": {
    "collapsed": true
   },
   "outputs": [],
   "source": [
    "def level2_candidate_gen(L,max_sup_diff,supp,sorted_m):\n",
    "    C2 = []\n",
    "    for l in L:\n",
    "        mis_l = [m[1] for m in sorted_m if m[0] == l]\n",
    "        if supp[l] >= mis_l[0]:\n",
    "            count = L.index(l) + 1\n",
    "            for i in range(count, len(L)):\n",
    "                if (supp[L[i]] >= mis_l[0] and abs(supp[L[i]] - supp[l]) <= max_sup_diff) :\n",
    "                    C2.append([l,L[i]])\n",
    "            count = count + 1\n",
    "    return C2"
   ]
  },
  {
   "cell_type": "code",
   "execution_count": 226,
   "metadata": {},
   "outputs": [],
   "source": [
    "def apply_item_constraints(F, cannot_be_together, must_have,fCount,fTailCount):\n",
    "    F1 = []\n",
    "    fNewCount=[]\n",
    "    fNewTailCount=[]\n",
    "    \n",
    "    for f in F:\n",
    "        remove = False\n",
    "        if must_have:\n",
    "            if set(f).intersection(set(must_have)) or f in must_have:\n",
    "                for items in cannot_be_together:\n",
    "                    itemsarr = re.findall(r'\\{(.*?)\\}',items)\n",
    "                    itemstr = ''.join(itemsarr)\n",
    "                    itemList = [x.strip() for x in itemstr.split(\",\")]\n",
    "                    if set(itemList).issubset(set(f)):\n",
    "                        remove = True\n",
    "                        break\n",
    "                if not remove:\n",
    "                    i = F.index(f)\n",
    "                    if fCount:\n",
    "                        fNewCount.append(fCount[i])\n",
    "                    if fTailCount:\n",
    "                        fNewTailCount.append(fTailCount[i])\n",
    "                    F1.append(f)\n",
    "                    \n",
    "        else:\n",
    "            for items in cannot_be_together:\n",
    "                    itemsarr = re.findall(r'\\{(.*?)\\}',items)\n",
    "                    itemstr = ''.join(itemsarr)\n",
    "                    itemList = [x.strip() for x in itemstr.split(\",\")]\n",
    "                    if set(itemList).issubset(set(f)):\n",
    "                        remove = True\n",
    "                        break\n",
    "            if not remove:\n",
    "                i = F.index(f)\n",
    "                if fCount:\n",
    "                    fNewCount.append(fCount[i])\n",
    "                if fTailCount:\n",
    "                    fNewTailCount.append(fTailCount[i])\n",
    "                F1.append(f)\n",
    "                \n",
    "           \n",
    "               \n",
    "    return F1,fNewCount,fNewTailCount"
   ]
  },
  {
   "cell_type": "code",
   "execution_count": 231,
   "metadata": {},
   "outputs": [],
   "source": [
    "## sorted_m - stores mis in sorted order\n",
    "## T - Dictionary of transactions\n",
    "## supp - Dictionary for all supports of elements in m\n",
    "## L - List of L\n",
    "## F1 - List of Frequent 1\n",
    "def ms_apriori():\n",
    "    T,M,max_sup_diff,cannot_be_together,must_have = read_file()\n",
    "    sorted_m = sortOnMIS(M)\n",
    "    L,supp = init_pass(T,sorted_m)\n",
    "    F=[]\n",
    "    FCount=[]\n",
    "    FtailCount=[[]]\n",
    "    f,f1Count = calculate_F1(L,sorted_m,supp,must_have,F,T)\n",
    "    FCount.append(f1Count)\n",
    "    F.append(f)\n",
    "    k = 1 \n",
    "    C=[[]]\n",
    "    while F[k-1]:\n",
    "        \n",
    "       \n",
    "        if k == 1:\n",
    "             C.append(level2_candidate_gen(L,max_sup_diff,supp,sorted_m))\n",
    "        else:\n",
    "            C.append(MS_candidate_gen(F[k-1],supp,max_sup_diff,sorted_m))\n",
    "        \n",
    "        cCount=[0]*len(C[k])\n",
    "        fCount=[]\n",
    "        tailCount = [0]*len(C[k])\n",
    "        fTailCount=[]\n",
    "        for t in T.values():\n",
    "            c_count = 0 \n",
    "            for c in C[k]:\n",
    "                if set(c).issubset(t):\n",
    "                    cCount[c_count]=cCount[c_count]+1\n",
    "                if set(c[1:]).issubset(t):\n",
    "                    tailCount[c_count] = tailCount[c_count]+1\n",
    "                \n",
    "                c_count = c_count+1\n",
    "        c_count=0\n",
    "        f=[]\n",
    "        for c in C[k]:\n",
    "            mis_c1 = [m[1] for m in sorted_m if m[0] == c[0]]\n",
    "            if cCount[c_count]/len(T) >= mis_c1[0]:\n",
    "                f.append(c)\n",
    "                fCount.append(cCount[c_count])\n",
    "                fTailCount.append(tailCount[c_count])\n",
    "            c_count = c_count+1\n",
    "            \n",
    "        F.append(f)\n",
    "        FCount.append(fCount)\n",
    "        FtailCount.append(fTailCount)\n",
    "        k =k+1\n",
    "    \n",
    "    newF=[]\n",
    "    newFCount=[]\n",
    "    newFtailCount=[]\n",
    "    for i in range(0,len(F)):\n",
    "        f,fCount,fTailCount = apply_item_constraints(F[i], cannot_be_together, must_have,FCount[i],FtailCount[i])        \n",
    "        newF.append(f)\n",
    "        newFCount.append(fCount)\n",
    "        newFtailCount.append(fTailCount)\n",
    "    \n",
    "    \n",
    "    \n",
    "    print(\"******\")\n",
    "    print(newF)\n",
    "    print(newFCount)\n",
    "    print(newFtailCount)\n",
    "    print(\"******\")\n",
    "    newF.pop()\n",
    "    newFCount.pop()\n",
    "    newFtailCount.pop()\n",
    "    display(newF,newFCount,newFtailCount)"
   ]
  },
  {
   "cell_type": "code",
   "execution_count": 232,
   "metadata": {
    "scrolled": true
   },
   "outputs": [
    {
     "name": "stdout",
     "output_type": "stream",
     "text": [
      "******\n",
      "[[['70'], ['20']], []]\n",
      "[[6, 7], []]\n",
      "[[], []]\n",
      "******\n"
     ]
    }
   ],
   "source": [
    "ms_apriori()"
   ]
  },
  {
   "cell_type": "code",
   "execution_count": 87,
   "metadata": {},
   "outputs": [
    {
     "ename": "TypeError",
     "evalue": "MS_candidate_gen() missing 1 required positional argument: 'sorted_m'",
     "output_type": "error",
     "traceback": [
      "\u001b[0;31m---------------------------------------------------------------------------\u001b[0m",
      "\u001b[0;31mTypeError\u001b[0m                                 Traceback (most recent call last)",
      "\u001b[0;32m<ipython-input-87-faf52f9b780f>\u001b[0m in \u001b[0;36m<module>\u001b[0;34m()\u001b[0m\n\u001b[1;32m      3\u001b[0m \u001b[0mL\u001b[0m\u001b[0;34m,\u001b[0m\u001b[0msupp\u001b[0m \u001b[0;34m=\u001b[0m \u001b[0minit_pass\u001b[0m\u001b[0;34m(\u001b[0m\u001b[0mT\u001b[0m\u001b[0;34m,\u001b[0m\u001b[0msorted_m\u001b[0m\u001b[0;34m)\u001b[0m\u001b[0;34m\u001b[0m\u001b[0m\n\u001b[1;32m      4\u001b[0m \u001b[0mf\u001b[0m\u001b[0;34m=\u001b[0m \u001b[0;34m[\u001b[0m\u001b[0;34m[\u001b[0m\u001b[0;34m'100'\u001b[0m\u001b[0;34m,\u001b[0m\u001b[0;34m'20'\u001b[0m\u001b[0;34m]\u001b[0m\u001b[0;34m,\u001b[0m\u001b[0;34m[\u001b[0m\u001b[0;34m'30'\u001b[0m\u001b[0;34m,\u001b[0m\u001b[0;34m'60'\u001b[0m\u001b[0;34m]\u001b[0m\u001b[0;34m,\u001b[0m\u001b[0;34m[\u001b[0m\u001b[0;34m'20'\u001b[0m\u001b[0;34m,\u001b[0m\u001b[0;34m'60'\u001b[0m\u001b[0;34m]\u001b[0m\u001b[0;34m]\u001b[0m\u001b[0;34m\u001b[0m\u001b[0m\n\u001b[0;32m----> 5\u001b[0;31m \u001b[0mMS_candidate_gen\u001b[0m\u001b[0;34m(\u001b[0m\u001b[0mf\u001b[0m\u001b[0;34m,\u001b[0m\u001b[0msupp\u001b[0m\u001b[0;34m,\u001b[0m\u001b[0mmax_sup_diff\u001b[0m\u001b[0;34m)\u001b[0m\u001b[0;34m\u001b[0m\u001b[0m\n\u001b[0m",
      "\u001b[0;31mTypeError\u001b[0m: MS_candidate_gen() missing 1 required positional argument: 'sorted_m'"
     ]
    }
   ],
   "source": [
    "T,M,max_sup_diff,cannot_be_together,must_have = read_file()\n",
    "sorted_m = sortOnMIS(M)\n",
    "L,supp = init_pass(T,sorted_m)\n",
    "f= [['100','20'],['30','60'],['20','60']]\n",
    "MS_candidate_gen(f,supp,max_sup_diff)"
   ]
  },
  {
   "cell_type": "code",
   "execution_count": 71,
   "metadata": {},
   "outputs": [
    {
     "data": {
      "text/plain": [
       "True"
      ]
     },
     "execution_count": 71,
     "metadata": {},
     "output_type": "execute_result"
    }
   ],
   "source": [
    "c=['20']\n",
    "set(c).issubset(T[1])"
   ]
  },
  {
   "cell_type": "code",
   "execution_count": 20,
   "metadata": {
    "collapsed": true
   },
   "outputs": [],
   "source": [
    "import itertools\n",
    "def findsubsets(S,m):\n",
    "    return set(itertools.combinations(S, m))"
   ]
  },
  {
   "cell_type": "code",
   "execution_count": 27,
   "metadata": {},
   "outputs": [
    {
     "name": "stdout",
     "output_type": "stream",
     "text": [
      "{('100', '200'), ('100', '300'), ('200', '300')}\n"
     ]
    }
   ],
   "source": [
    "S=['100','200','300']\n",
    "m=2\n",
    "print(findsubsets(S,m))"
   ]
  },
  {
   "cell_type": "code",
   "execution_count": 230,
   "metadata": {},
   "outputs": [],
   "source": [
    "def display(F,count_list,tail_list):\n",
    "    out_file = open(\"output-file-4-2\", 'w')\n",
    "    freq_no = 0\n",
    "    \n",
    "    if len(F) == 0:\n",
    "        out_file.write(('Frequent ' + str(freq_no) + '-itemsets\\n'))\n",
    "        out_file.write(\"\\n\\n    Total number of frequent \"+ str(freq_no) + \"-itemsets = \" + str(len(F)) + \"\\n\\n\\n\")\n",
    "        \n",
    "    for k in range(len(F)):\n",
    "        freq_no = freq_no + 1\n",
    "        out_file.write(('Frequent ' + str(freq_no) + '-itemsets\\n'))\n",
    "        index = 0\n",
    "        for f in F[k]:\n",
    "            if k == 0:\n",
    "                out_file.write('\\n    ' + str(count_list[0][F[k].index(f)]) + ' : {' + str(f[k]) + '}')\n",
    "            else:\n",
    "                tail_count = 0\n",
    "                count = 0\n",
    "                tail_count = tail_list[k]\n",
    "                count = count_list[k]\n",
    "                out_file.write(\"\\n    \" + str(count[index]) + \" : \" + '{' + ', '.join(f) + '}')\n",
    "                out_file.write(\"\\nTailcount = \" + str(tail_count[index]))\n",
    "                index = index + 1\n",
    "        out_file.write(\"\\n\\n    Total number of frequent \"+ str(freq_no) + \"-itemsets = \" + str(len(F[k])) + \"\\n\\n\\n\")"
   ]
  },
  {
   "cell_type": "code",
   "execution_count": null,
   "metadata": {
    "collapsed": true
   },
   "outputs": [],
   "source": []
  },
  {
   "cell_type": "code",
   "execution_count": null,
   "metadata": {
    "collapsed": true
   },
   "outputs": [],
   "source": []
  }
 ],
 "metadata": {
  "kernelspec": {
   "display_name": "Python 3",
   "language": "python",
   "name": "python3"
  }
 },
 "nbformat": 4,
 "nbformat_minor": 2
}
