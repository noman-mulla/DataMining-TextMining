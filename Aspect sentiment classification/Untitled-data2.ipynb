{
 "cells": [
  {
   "cell_type": "code",
   "execution_count": 1,
   "metadata": {},
   "outputs": [
    {
     "data": {
      "text/html": [
       "<div>\n",
       "<style scoped>\n",
       "    .dataframe tbody tr th:only-of-type {\n",
       "        vertical-align: middle;\n",
       "    }\n",
       "\n",
       "    .dataframe tbody tr th {\n",
       "        vertical-align: top;\n",
       "    }\n",
       "\n",
       "    .dataframe thead th {\n",
       "        text-align: right;\n",
       "    }\n",
       "</style>\n",
       "<table border=\"1\" class=\"dataframe\">\n",
       "  <thead>\n",
       "    <tr style=\"text-align: right;\">\n",
       "      <th></th>\n",
       "      <th>example_id</th>\n",
       "      <th>text</th>\n",
       "      <th>aspect_term</th>\n",
       "      <th>term_location</th>\n",
       "      <th>class</th>\n",
       "    </tr>\n",
       "  </thead>\n",
       "  <tbody>\n",
       "    <tr>\n",
       "      <th>0</th>\n",
       "      <td>3121_0</td>\n",
       "      <td>But the staff was so horrible to us.</td>\n",
       "      <td>staff</td>\n",
       "      <td>8--13</td>\n",
       "      <td>-1</td>\n",
       "    </tr>\n",
       "    <tr>\n",
       "      <th>1</th>\n",
       "      <td>2777_0</td>\n",
       "      <td>To be completely fair[comma] the only redeemin...</td>\n",
       "      <td>food</td>\n",
       "      <td>57--61</td>\n",
       "      <td>1</td>\n",
       "    </tr>\n",
       "    <tr>\n",
       "      <th>2</th>\n",
       "      <td>1634_0</td>\n",
       "      <td>The food is uniformly exceptional[comma] with ...</td>\n",
       "      <td>food</td>\n",
       "      <td>4--8</td>\n",
       "      <td>1</td>\n",
       "    </tr>\n",
       "    <tr>\n",
       "      <th>3</th>\n",
       "      <td>1634_1</td>\n",
       "      <td>The food is uniformly exceptional[comma] with ...</td>\n",
       "      <td>kitchen</td>\n",
       "      <td>55--62</td>\n",
       "      <td>1</td>\n",
       "    </tr>\n",
       "    <tr>\n",
       "      <th>4</th>\n",
       "      <td>1634_2</td>\n",
       "      <td>The food is uniformly exceptional[comma] with ...</td>\n",
       "      <td>menu</td>\n",
       "      <td>141--145</td>\n",
       "      <td>0</td>\n",
       "    </tr>\n",
       "  </tbody>\n",
       "</table>\n",
       "</div>"
      ],
      "text/plain": [
       "  example_id                                               text  aspect_term  \\\n",
       "0     3121_0               But the staff was so horrible to us.        staff   \n",
       "1     2777_0  To be completely fair[comma] the only redeemin...         food   \n",
       "2     1634_0  The food is uniformly exceptional[comma] with ...         food   \n",
       "3     1634_1  The food is uniformly exceptional[comma] with ...      kitchen   \n",
       "4     1634_2  The food is uniformly exceptional[comma] with ...         menu   \n",
       "\n",
       "   term_location   class  \n",
       "0          8--13      -1  \n",
       "1         57--61       1  \n",
       "2           4--8       1  \n",
       "3         55--62       1  \n",
       "4       141--145       0  "
      ]
     },
     "execution_count": 1,
     "metadata": {},
     "output_type": "execute_result"
    }
   ],
   "source": [
    "#read data\n",
    "\n",
    "import pandas as pd\n",
    "train_file_path = \"project_2_train/project_2_train/data 2_train.csv\"\n",
    "train_data = pd.read_csv(train_file_path)\n",
    "train_data.head()"
   ]
  },
  {
   "cell_type": "code",
   "execution_count": 2,
   "metadata": {},
   "outputs": [
    {
     "name": "stdout",
     "output_type": "stream",
     "text": [
      "food                                             345\n",
      "service                                          197\n",
      "place                                             59\n",
      "prices                                            58\n",
      "dinner                                            55\n",
      "menu                                              55\n",
      "staff                                             54\n",
      "atmosphere                                        46\n",
      "pizza                                             43\n",
      "table                                             41\n",
      "meal                                              39\n",
      "price                                             38\n",
      "sushi                                             35\n",
      "drinks                                            33\n",
      "bar                                               32\n",
      "lunch                                             28\n",
      "dishes                                            28\n",
      "Service                                           27\n",
      "portions                                          27\n",
      "waiter                                            26\n",
      "wine                                              24\n",
      "ambience                                          24\n",
      "decor                                             20\n",
      "dish                                              20\n",
      "fish                                              19\n",
      "reservation                                       19\n",
      "wait                                              18\n",
      "wine list                                         18\n",
      "ambiance                                          17\n",
      "priced                                            17\n",
      "                                                ... \n",
      "bruscetta                                          1\n",
      "refleshment                                        1\n",
      "canned vegetables                                  1\n",
      "curry flavor                                       1\n",
      "Prix Fixe menu                                     1\n",
      "wild mushroom(third generation-Fornini) pizza      1\n",
      "lunch food                                         1\n",
      "lamb chettinad                                     1\n",
      "steak dish                                         1\n",
      "reservation sigh                                   1\n",
      "jelly fish                                         1\n",
      "bills                                              1\n",
      "Blue Point oysters                                 1\n",
      "assortment of fish                                 1\n",
      "chopsticks                                         1\n",
      "bathrooms                                          1\n",
      "espresso cup filled with chocolate mousse          1\n",
      "main entree                                        1\n",
      "fromager                                           1\n",
      "special menu                                       1\n",
      "kinds of beer                                      1\n",
      "bottle minimun                                     1\n",
      "semi-private boths                                 1\n",
      "Appetizers                                         1\n",
      "pepper powder                                      1\n",
      "italian food                                       1\n",
      "fried clams                                        1\n",
      "Christmas dinner                                   1\n",
      "glass of Sangria                                   1\n",
      "Half-Price Saturday Night Special                  1\n",
      "Name:  aspect_term, Length: 1268, dtype: int64\n"
     ]
    }
   ],
   "source": [
    "aspect_term = train_data[' aspect_term'].value_counts(dropna=False)\n",
    "print(aspect_term)"
   ]
  },
  {
   "cell_type": "code",
   "execution_count": 3,
   "metadata": {},
   "outputs": [
    {
     "name": "stdout",
     "output_type": "stream",
     "text": [
      " 1    2164\n",
      "-1     805\n",
      " 0     633\n",
      "Name:  class, dtype: int64\n"
     ]
    }
   ],
   "source": [
    "class_value = train_data[' class'].value_counts(dropna=False)\n",
    "print(class_value)"
   ]
  },
  {
   "cell_type": "code",
   "execution_count": 4,
   "metadata": {},
   "outputs": [
    {
     "data": {
      "text/html": [
       "<div>\n",
       "<style scoped>\n",
       "    .dataframe tbody tr th:only-of-type {\n",
       "        vertical-align: middle;\n",
       "    }\n",
       "\n",
       "    .dataframe tbody tr th {\n",
       "        vertical-align: top;\n",
       "    }\n",
       "\n",
       "    .dataframe thead th {\n",
       "        text-align: right;\n",
       "    }\n",
       "</style>\n",
       "<table border=\"1\" class=\"dataframe\">\n",
       "  <thead>\n",
       "    <tr style=\"text-align: right;\">\n",
       "      <th></th>\n",
       "      <th>aspect_term</th>\n",
       "      <th>term_location</th>\n",
       "    </tr>\n",
       "  </thead>\n",
       "  <tbody>\n",
       "    <tr>\n",
       "      <th>0</th>\n",
       "      <td>staff</td>\n",
       "      <td>8--13</td>\n",
       "    </tr>\n",
       "    <tr>\n",
       "      <th>1</th>\n",
       "      <td>food</td>\n",
       "      <td>57--61</td>\n",
       "    </tr>\n",
       "    <tr>\n",
       "      <th>2</th>\n",
       "      <td>food</td>\n",
       "      <td>4--8</td>\n",
       "    </tr>\n",
       "    <tr>\n",
       "      <th>3</th>\n",
       "      <td>kitchen</td>\n",
       "      <td>55--62</td>\n",
       "    </tr>\n",
       "    <tr>\n",
       "      <th>4</th>\n",
       "      <td>menu</td>\n",
       "      <td>141--145</td>\n",
       "    </tr>\n",
       "  </tbody>\n",
       "</table>\n",
       "</div>"
      ],
      "text/plain": [
       "   aspect_term  term_location\n",
       "0        staff          8--13\n",
       "1         food         57--61\n",
       "2         food           4--8\n",
       "3      kitchen         55--62\n",
       "4         menu       141--145"
      ]
     },
     "execution_count": 4,
     "metadata": {},
     "output_type": "execute_result"
    }
   ],
   "source": [
    "X = train_data.drop([\" class\",\"example_id\",\" text\"],axis=1)\n",
    "X.head()"
   ]
  },
  {
   "cell_type": "code",
   "execution_count": 5,
   "metadata": {},
   "outputs": [
    {
     "data": {
      "text/plain": [
       "(3602, 2)"
      ]
     },
     "execution_count": 5,
     "metadata": {},
     "output_type": "execute_result"
    }
   ],
   "source": [
    "X.shape"
   ]
  },
  {
   "cell_type": "code",
   "execution_count": 6,
   "metadata": {},
   "outputs": [
    {
     "data": {
      "text/plain": [
       "0   -1\n",
       "1    1\n",
       "2    1\n",
       "3    1\n",
       "4    0\n",
       "Name:  class, dtype: int64"
      ]
     },
     "execution_count": 6,
     "metadata": {},
     "output_type": "execute_result"
    }
   ],
   "source": [
    "## target data\n",
    "Y = train_data[\" class\"]\n",
    "Y.head()"
   ]
  },
  {
   "cell_type": "code",
   "execution_count": 7,
   "metadata": {},
   "outputs": [
    {
     "data": {
      "text/plain": [
       "(3602, 3716)"
      ]
     },
     "execution_count": 7,
     "metadata": {},
     "output_type": "execute_result"
    }
   ],
   "source": [
    "#bag of words\n",
    "from sklearn.feature_extraction.text import CountVectorizer\n",
    "count_vect = CountVectorizer()\n",
    "X_train_bag = count_vect.fit_transform(train_data[\" text\"])\n",
    "X_train_bag.shape"
   ]
  },
  {
   "cell_type": "code",
   "execution_count": 8,
   "metadata": {},
   "outputs": [],
   "source": [
    "#TF-IDF\n",
    "from sklearn.feature_extraction.text import TfidfTransformer\n",
    "tfidf_transformer = TfidfTransformer()\n",
    "X_train_tfidf = tfidf_transformer.fit_transform(X_train_bag)\n",
    "X_train_tfidf.shape\n",
    "X_tfidf = pd.DataFrame(X_train_tfidf.toarray())"
   ]
  },
  {
   "cell_type": "code",
   "execution_count": 9,
   "metadata": {},
   "outputs": [],
   "source": [
    "\n",
    "df2 = pd.merge(X,X_tfidf, left_index=True, right_index=True)"
   ]
  },
  {
   "cell_type": "code",
   "execution_count": 10,
   "metadata": {},
   "outputs": [
    {
     "data": {
      "text/html": [
       "<div>\n",
       "<style scoped>\n",
       "    .dataframe tbody tr th:only-of-type {\n",
       "        vertical-align: middle;\n",
       "    }\n",
       "\n",
       "    .dataframe tbody tr th {\n",
       "        vertical-align: top;\n",
       "    }\n",
       "\n",
       "    .dataframe thead th {\n",
       "        text-align: right;\n",
       "    }\n",
       "</style>\n",
       "<table border=\"1\" class=\"dataframe\">\n",
       "  <thead>\n",
       "    <tr style=\"text-align: right;\">\n",
       "      <th></th>\n",
       "      <th>aspect_term</th>\n",
       "      <th>term_location</th>\n",
       "      <th>0</th>\n",
       "      <th>1</th>\n",
       "      <th>2</th>\n",
       "      <th>3</th>\n",
       "      <th>4</th>\n",
       "      <th>5</th>\n",
       "      <th>6</th>\n",
       "      <th>7</th>\n",
       "      <th>...</th>\n",
       "      <th>3706</th>\n",
       "      <th>3707</th>\n",
       "      <th>3708</th>\n",
       "      <th>3709</th>\n",
       "      <th>3710</th>\n",
       "      <th>3711</th>\n",
       "      <th>3712</th>\n",
       "      <th>3713</th>\n",
       "      <th>3714</th>\n",
       "      <th>3715</th>\n",
       "    </tr>\n",
       "  </thead>\n",
       "  <tbody>\n",
       "    <tr>\n",
       "      <th>0</th>\n",
       "      <td>staff</td>\n",
       "      <td>8--13</td>\n",
       "      <td>0.0</td>\n",
       "      <td>0.0</td>\n",
       "      <td>0.0</td>\n",
       "      <td>0.0</td>\n",
       "      <td>0.0</td>\n",
       "      <td>0.0</td>\n",
       "      <td>0.0</td>\n",
       "      <td>0.0</td>\n",
       "      <td>...</td>\n",
       "      <td>0.0</td>\n",
       "      <td>0.0</td>\n",
       "      <td>0.0</td>\n",
       "      <td>0.0</td>\n",
       "      <td>0.0</td>\n",
       "      <td>0.0</td>\n",
       "      <td>0.0</td>\n",
       "      <td>0.0</td>\n",
       "      <td>0.0</td>\n",
       "      <td>0.0</td>\n",
       "    </tr>\n",
       "    <tr>\n",
       "      <th>1</th>\n",
       "      <td>food</td>\n",
       "      <td>57--61</td>\n",
       "      <td>0.0</td>\n",
       "      <td>0.0</td>\n",
       "      <td>0.0</td>\n",
       "      <td>0.0</td>\n",
       "      <td>0.0</td>\n",
       "      <td>0.0</td>\n",
       "      <td>0.0</td>\n",
       "      <td>0.0</td>\n",
       "      <td>...</td>\n",
       "      <td>0.0</td>\n",
       "      <td>0.0</td>\n",
       "      <td>0.0</td>\n",
       "      <td>0.0</td>\n",
       "      <td>0.0</td>\n",
       "      <td>0.0</td>\n",
       "      <td>0.0</td>\n",
       "      <td>0.0</td>\n",
       "      <td>0.0</td>\n",
       "      <td>0.0</td>\n",
       "    </tr>\n",
       "    <tr>\n",
       "      <th>2</th>\n",
       "      <td>food</td>\n",
       "      <td>4--8</td>\n",
       "      <td>0.0</td>\n",
       "      <td>0.0</td>\n",
       "      <td>0.0</td>\n",
       "      <td>0.0</td>\n",
       "      <td>0.0</td>\n",
       "      <td>0.0</td>\n",
       "      <td>0.0</td>\n",
       "      <td>0.0</td>\n",
       "      <td>...</td>\n",
       "      <td>0.0</td>\n",
       "      <td>0.0</td>\n",
       "      <td>0.0</td>\n",
       "      <td>0.0</td>\n",
       "      <td>0.0</td>\n",
       "      <td>0.0</td>\n",
       "      <td>0.0</td>\n",
       "      <td>0.0</td>\n",
       "      <td>0.0</td>\n",
       "      <td>0.0</td>\n",
       "    </tr>\n",
       "    <tr>\n",
       "      <th>3</th>\n",
       "      <td>kitchen</td>\n",
       "      <td>55--62</td>\n",
       "      <td>0.0</td>\n",
       "      <td>0.0</td>\n",
       "      <td>0.0</td>\n",
       "      <td>0.0</td>\n",
       "      <td>0.0</td>\n",
       "      <td>0.0</td>\n",
       "      <td>0.0</td>\n",
       "      <td>0.0</td>\n",
       "      <td>...</td>\n",
       "      <td>0.0</td>\n",
       "      <td>0.0</td>\n",
       "      <td>0.0</td>\n",
       "      <td>0.0</td>\n",
       "      <td>0.0</td>\n",
       "      <td>0.0</td>\n",
       "      <td>0.0</td>\n",
       "      <td>0.0</td>\n",
       "      <td>0.0</td>\n",
       "      <td>0.0</td>\n",
       "    </tr>\n",
       "    <tr>\n",
       "      <th>4</th>\n",
       "      <td>menu</td>\n",
       "      <td>141--145</td>\n",
       "      <td>0.0</td>\n",
       "      <td>0.0</td>\n",
       "      <td>0.0</td>\n",
       "      <td>0.0</td>\n",
       "      <td>0.0</td>\n",
       "      <td>0.0</td>\n",
       "      <td>0.0</td>\n",
       "      <td>0.0</td>\n",
       "      <td>...</td>\n",
       "      <td>0.0</td>\n",
       "      <td>0.0</td>\n",
       "      <td>0.0</td>\n",
       "      <td>0.0</td>\n",
       "      <td>0.0</td>\n",
       "      <td>0.0</td>\n",
       "      <td>0.0</td>\n",
       "      <td>0.0</td>\n",
       "      <td>0.0</td>\n",
       "      <td>0.0</td>\n",
       "    </tr>\n",
       "  </tbody>\n",
       "</table>\n",
       "<p>5 rows × 3718 columns</p>\n",
       "</div>"
      ],
      "text/plain": [
       "   aspect_term  term_location    0    1    2    3    4    5    6    7  ...   \\\n",
       "0        staff          8--13  0.0  0.0  0.0  0.0  0.0  0.0  0.0  0.0  ...    \n",
       "1         food         57--61  0.0  0.0  0.0  0.0  0.0  0.0  0.0  0.0  ...    \n",
       "2         food           4--8  0.0  0.0  0.0  0.0  0.0  0.0  0.0  0.0  ...    \n",
       "3      kitchen         55--62  0.0  0.0  0.0  0.0  0.0  0.0  0.0  0.0  ...    \n",
       "4         menu       141--145  0.0  0.0  0.0  0.0  0.0  0.0  0.0  0.0  ...    \n",
       "\n",
       "   3706  3707  3708  3709  3710  3711  3712  3713  3714  3715  \n",
       "0   0.0   0.0   0.0   0.0   0.0   0.0   0.0   0.0   0.0   0.0  \n",
       "1   0.0   0.0   0.0   0.0   0.0   0.0   0.0   0.0   0.0   0.0  \n",
       "2   0.0   0.0   0.0   0.0   0.0   0.0   0.0   0.0   0.0   0.0  \n",
       "3   0.0   0.0   0.0   0.0   0.0   0.0   0.0   0.0   0.0   0.0  \n",
       "4   0.0   0.0   0.0   0.0   0.0   0.0   0.0   0.0   0.0   0.0  \n",
       "\n",
       "[5 rows x 3718 columns]"
      ]
     },
     "execution_count": 10,
     "metadata": {},
     "output_type": "execute_result"
    }
   ],
   "source": [
    "df2.head()"
   ]
  },
  {
   "cell_type": "code",
   "execution_count": 11,
   "metadata": {},
   "outputs": [],
   "source": [
    "##train validation data split\n",
    "\n",
    "from sklearn.model_selection import train_test_split\n",
    "\n",
    "train_X, val_X, train_Y, val_Y = train_test_split(df2, Y,random_state = 0)"
   ]
  },
  {
   "cell_type": "code",
   "execution_count": 11,
   "metadata": {},
   "outputs": [],
   "source": [
    "one_hot_encoded_training_predictors = pd.get_dummies(df2)\n",
    "#one_hot_encoded_val_predictors = pd.get_dummies(val_X)\n",
    "#final_train, final_val = one_hot_encoded_training_predictors.align(one_hot_encoded_val_predictors,\n",
    "#                                                                    join='left', \n",
    "#                                                                    axis=1)"
   ]
  },
  {
   "cell_type": "code",
   "execution_count": 13,
   "metadata": {},
   "outputs": [],
   "source": [
    "from sklearn.preprocessing import Imputer\n",
    "my_imputer = Imputer()\n",
    "imputed_X_train = my_imputer.fit_transform(one_hot_encoded_training_predictors)\n",
    "#imputed_X_val = my_imputer.transform(final_val)\n",
    "#print(imputed_X_train.shape)\n",
    "#print(imputed_X_val.shape)"
   ]
  },
  {
   "cell_type": "code",
   "execution_count": 44,
   "metadata": {},
   "outputs": [],
   "source": [
    "#Naive Bayes\n",
    "from sklearn.naive_bayes import MultinomialNB\n",
    "clf = MultinomialNB().fit(imputed_X_train, Y)"
   ]
  },
  {
   "cell_type": "code",
   "execution_count": 15,
   "metadata": {},
   "outputs": [
    {
     "data": {
      "text/plain": [
       "0.647912885662432"
      ]
     },
     "execution_count": 15,
     "metadata": {},
     "output_type": "execute_result"
    }
   ],
   "source": [
    "#Naive Bayes Prediction\n",
    "import numpy as np\n",
    "from sklearn.metrics import accuracy_score\n",
    "predicted = clf.predict(imputed_X_val)\n",
    "accuracy_score(val_Y, predicted)"
   ]
  },
  {
   "cell_type": "code",
   "execution_count": 17,
   "metadata": {},
   "outputs": [
    {
     "name": "stdout",
     "output_type": "stream",
     "text": [
      "For positive class\n",
      "Precision\n",
      "0.6727400140154169\n",
      "Recall\n",
      "0.8864265927977839\n",
      "F1 Score\n",
      "0.7649402390438247\n",
      "For negative class\n",
      "Precision\n",
      "0.4562899786780384\n",
      "Recall\n",
      "0.265179677819083\n",
      "F1 Score\n",
      "0.335423197492163\n",
      "For neutral class\n",
      "Precision\n",
      "0.4336917562724014\n",
      "Recall\n",
      "0.19055118110236222\n",
      "F1 Score\n",
      "0.2647702407002188\n",
      "None\n",
      "(array([0.45628998, 0.43369176, 0.67274001]), array([0.26583851, 0.19115324, 0.88724584]), array([0.33594976, 0.26535088, 0.76524512]), array([ 805,  633, 2164]))\n"
     ]
    }
   ],
   "source": [
    "#Naive Bayes using cross validation and\n",
    "from sklearn.model_selection import cross_val_predict\n",
    "from sklearn.metrics import confusion_matrix\n",
    "from sklearn.metrics import precision_recall_fscore_support\n",
    "from sklearn.naive_bayes import MultinomialNB\n",
    "\n",
    "\n",
    "clf = MultinomialNB()\n",
    "predicted = cross_val_predict(clf, imputed_X_train, Y, cv=10)\n",
    "conf_mat_naive = confusion_matrix(Y,predicted,labels=[-1,0,1])\n",
    "print(calclulateF1(conf_mat_naive))\n",
    "print(precision_recall_fscore_support(Y,predicted))"
   ]
  },
  {
   "cell_type": "code",
   "execution_count": 19,
   "metadata": {},
   "outputs": [
    {
     "data": {
      "text/plain": [
       "0.6260410882842865"
      ]
     },
     "execution_count": 19,
     "metadata": {},
     "output_type": "execute_result"
    }
   ],
   "source": [
    "from sklearn.metrics import accuracy_score\n",
    "accuracy_score(Y, predicted)"
   ]
  },
  {
   "cell_type": "code",
   "execution_count": 19,
   "metadata": {},
   "outputs": [
    {
     "data": {
      "text/plain": [
       "RandomForestClassifier(bootstrap=True, class_weight=None, criterion='gini',\n",
       "            max_depth=None, max_features='auto', max_leaf_nodes=None,\n",
       "            min_impurity_decrease=0.0, min_impurity_split=None,\n",
       "            min_samples_leaf=1, min_samples_split=2,\n",
       "            min_weight_fraction_leaf=0.0, n_estimators=10, n_jobs=1,\n",
       "            oob_score=False, random_state=None, verbose=0,\n",
       "            warm_start=False)"
      ]
     },
     "execution_count": 19,
     "metadata": {},
     "output_type": "execute_result"
    }
   ],
   "source": [
    "#Random Forest train\n",
    "from sklearn.ensemble import RandomForestClassifier\n",
    "forest_model = RandomForestClassifier()\n",
    "forest_model.fit(imputed_X_train,train_Y)"
   ]
  },
  {
   "cell_type": "code",
   "execution_count": 20,
   "metadata": {},
   "outputs": [
    {
     "data": {
      "text/plain": [
       "0.6751361161524501"
      ]
     },
     "execution_count": 20,
     "metadata": {},
     "output_type": "execute_result"
    }
   ],
   "source": [
    "#Random Forest predict\n",
    "forest_pred = forest_model.predict(imputed_X_val)\n",
    "accuracy_score(val_Y, forest_pred)"
   ]
  },
  {
   "cell_type": "code",
   "execution_count": 20,
   "metadata": {},
   "outputs": [
    {
     "name": "stdout",
     "output_type": "stream",
     "text": [
      "For positive class\n",
      "Precision\n",
      "0.6571332436069987\n",
      "Recall\n",
      "0.9016620498614959\n",
      "F1 Score\n",
      "0.7602179836512262\n",
      "For negative class\n",
      "Precision\n",
      "0.40302267002518893\n",
      "Recall\n",
      "0.1982651796778191\n",
      "F1 Score\n",
      "0.26578073089701\n",
      "For neutral class\n",
      "Precision\n",
      "0.3562231759656652\n",
      "Recall\n",
      "0.13070866141732285\n",
      "F1 Score\n",
      "0.1912442396313364\n",
      "For positive class\n",
      "Precision\n",
      "0.6727400140154169\n",
      "Recall\n",
      "0.8864265927977839\n",
      "F1 Score\n",
      "0.7649402390438247\n",
      "For negative class\n",
      "Precision\n",
      "0.4562899786780384\n",
      "Recall\n",
      "0.265179677819083\n",
      "F1 Score\n",
      "0.335423197492163\n",
      "For neutral class\n",
      "Precision\n",
      "0.4336917562724014\n",
      "Recall\n",
      "0.19055118110236222\n",
      "F1 Score\n",
      "0.2647702407002188\n",
      "None\n",
      "(array([0.40302267, 0.35622318, 0.65713324]), array([0.19875776, 0.13112164, 0.90249538]), array([0.26622296, 0.19168591, 0.76051402]), array([ 805,  633, 2164]))\n"
     ]
    }
   ],
   "source": [
    "#Random Forest using cross validation and confusion matrix\n",
    "from sklearn.ensemble import RandomForestClassifier\n",
    "forest_model = RandomForestClassifier()\n",
    "predicted = cross_val_predict(forest_model, imputed_X_train, Y, cv=10)\n",
    "conf_mat_forest = confusion_matrix(Y,predicted,labels=[-1,0,1])\n",
    "calclulateF1(conf_mat_forest)\n",
    "print(calclulateF1(conf_mat_naive))\n",
    "print(precision_recall_fscore_support(Y,predicted))"
   ]
  },
  {
   "cell_type": "code",
   "execution_count": 21,
   "metadata": {},
   "outputs": [
    {
     "data": {
      "text/plain": [
       "0.6096612992781788"
      ]
     },
     "execution_count": 21,
     "metadata": {},
     "output_type": "execute_result"
    }
   ],
   "source": [
    "accuracy_score(Y, predicted)"
   ]
  },
  {
   "cell_type": "code",
   "execution_count": 16,
   "metadata": {},
   "outputs": [],
   "source": [
    "def calclulateF1(conf_matrix):\n",
    "    print(\"For positive class\")\n",
    "    tp_positive = conf_matrix[2,2]\n",
    "    fn_positive = sum(conf_matrix[2,:], 2)-conf_matrix[2, 2]\n",
    "    fp_positive = sum(conf_matrix[:,2])-conf_matrix[2, 2]\n",
    "    print(\"Precision\")\n",
    "    p_positive = tp_positive/(tp_positive+fp_positive)\n",
    "    print(p_positive)\n",
    "    print(\"Recall\")\n",
    "    r_positive =tp_positive/(tp_positive+fn_positive)\n",
    "    print(r_positive)\n",
    "    print(\"F1 Score\")\n",
    "    f1_positive = (2*p_positive*r_positive)/(p_positive+r_positive)\n",
    "    print(f1_positive)\n",
    "    print(\"For negative class\")\n",
    "    tp_negative = conf_matrix[0,0]\n",
    "    fn_negative = sum(conf_matrix[0,:], 2)-conf_matrix[0, 0]\n",
    "    fp_negative = sum(conf_matrix[:,0])-conf_matrix[0, 0]\n",
    "    print(\"Precision\")\n",
    "    p_negative = tp_negative/(tp_negative+fp_negative)\n",
    "    print(p_negative)\n",
    "    print(\"Recall\")\n",
    "    r_negative =tp_negative/(tp_negative+fn_negative)\n",
    "    print(r_negative)\n",
    "    print(\"F1 Score\")\n",
    "    f1_negative = (2*p_negative*r_negative)/(p_negative+r_negative)\n",
    "    print(f1_negative)\n",
    "    print(\"For neutral class\")\n",
    "    tp_neutral = conf_matrix[1,1]\n",
    "    fn_neutral = sum(conf_matrix[1,:], 2)-conf_matrix[1, 1]\n",
    "    fp_neutral = sum(conf_matrix[:,1])-conf_matrix[1, 1]\n",
    "    print(\"Precision\")\n",
    "    p_neutral = tp_neutral/(tp_neutral+fp_neutral)\n",
    "    print(p_neutral)\n",
    "    print(\"Recall\")\n",
    "    r_neutral =tp_neutral/(tp_neutral+fn_neutral)\n",
    "    print(r_neutral)\n",
    "    print(\"F1 Score\")\n",
    "    f1_neutral = (2*p_neutral*r_neutral)/(p_neutral+r_neutral)\n",
    "    print(f1_neutral)"
   ]
  },
  {
   "cell_type": "code",
   "execution_count": 23,
   "metadata": {},
   "outputs": [],
   "source": [
    "from sklearn.ensemble import BaggingClassifier \n",
    "from sklearn.neural_network import MLPClassifier\n",
    "from sklearn.ensemble import RandomForestClassifier, VotingClassifier\n",
    "\n",
    "clf1 = BaggingClassifier()\n",
    "clf2 = RandomForestClassifier(n_estimators=100)\n",
    "clf3 = MLPClassifier()\n",
    "\n",
    "#vote_model = VotingClassifier(estimators=[('bag', clf1), ('rf', clf2), ('mlp', clf3)], voting='hard')\n",
    "#vote_model.fit(imputed_X_train,train_Y)\n",
    "#vote_pred = vote_model.predict(imputed_X_val)\n",
    "#accuracy_score(val_Y, vote_pred)"
   ]
  },
  {
   "cell_type": "code",
   "execution_count": 25,
   "metadata": {},
   "outputs": [
    {
     "name": "stderr",
     "output_type": "stream",
     "text": [
      "/anaconda3/lib/python3.6/site-packages/sklearn/preprocessing/label.py:151: DeprecationWarning: The truth value of an empty array is ambiguous. Returning False, but in future this will result in an error. Use `array.size > 0` to check that an array is not empty.\n",
      "  if diff:\n",
      "/anaconda3/lib/python3.6/site-packages/sklearn/preprocessing/label.py:151: DeprecationWarning: The truth value of an empty array is ambiguous. Returning False, but in future this will result in an error. Use `array.size > 0` to check that an array is not empty.\n",
      "  if diff:\n",
      "/anaconda3/lib/python3.6/site-packages/sklearn/preprocessing/label.py:151: DeprecationWarning: The truth value of an empty array is ambiguous. Returning False, but in future this will result in an error. Use `array.size > 0` to check that an array is not empty.\n",
      "  if diff:\n",
      "/anaconda3/lib/python3.6/site-packages/sklearn/preprocessing/label.py:151: DeprecationWarning: The truth value of an empty array is ambiguous. Returning False, but in future this will result in an error. Use `array.size > 0` to check that an array is not empty.\n",
      "  if diff:\n",
      "/anaconda3/lib/python3.6/site-packages/sklearn/preprocessing/label.py:151: DeprecationWarning: The truth value of an empty array is ambiguous. Returning False, but in future this will result in an error. Use `array.size > 0` to check that an array is not empty.\n",
      "  if diff:\n",
      "/anaconda3/lib/python3.6/site-packages/sklearn/preprocessing/label.py:151: DeprecationWarning: The truth value of an empty array is ambiguous. Returning False, but in future this will result in an error. Use `array.size > 0` to check that an array is not empty.\n",
      "  if diff:\n",
      "/anaconda3/lib/python3.6/site-packages/sklearn/preprocessing/label.py:151: DeprecationWarning: The truth value of an empty array is ambiguous. Returning False, but in future this will result in an error. Use `array.size > 0` to check that an array is not empty.\n",
      "  if diff:\n",
      "/anaconda3/lib/python3.6/site-packages/sklearn/preprocessing/label.py:151: DeprecationWarning: The truth value of an empty array is ambiguous. Returning False, but in future this will result in an error. Use `array.size > 0` to check that an array is not empty.\n",
      "  if diff:\n",
      "/anaconda3/lib/python3.6/site-packages/sklearn/preprocessing/label.py:151: DeprecationWarning: The truth value of an empty array is ambiguous. Returning False, but in future this will result in an error. Use `array.size > 0` to check that an array is not empty.\n",
      "  if diff:\n"
     ]
    },
    {
     "name": "stdout",
     "output_type": "stream",
     "text": [
      "For positive class\n",
      "Precision\n",
      "0.6727400140154169\n",
      "Recall\n",
      "0.8864265927977839\n",
      "F1 Score\n",
      "0.7649402390438247\n",
      "For negative class\n",
      "Precision\n",
      "0.4562899786780384\n",
      "Recall\n",
      "0.265179677819083\n",
      "F1 Score\n",
      "0.335423197492163\n",
      "For neutral class\n",
      "Precision\n",
      "0.4336917562724014\n",
      "Recall\n",
      "0.19055118110236222\n",
      "F1 Score\n",
      "0.2647702407002188\n",
      "None\n",
      "(array([0.46680942, 0.35779817, 0.67226603]), array([0.27080745, 0.12322275, 0.90619224]), array([0.3427673 , 0.18331375, 0.7718953 ]), array([ 805,  633, 2164]))\n"
     ]
    },
    {
     "name": "stderr",
     "output_type": "stream",
     "text": [
      "/anaconda3/lib/python3.6/site-packages/sklearn/preprocessing/label.py:151: DeprecationWarning: The truth value of an empty array is ambiguous. Returning False, but in future this will result in an error. Use `array.size > 0` to check that an array is not empty.\n",
      "  if diff:\n"
     ]
    }
   ],
   "source": [
    "#Random Forest using cross validation and confusion matrix\n",
    "from sklearn.ensemble import BaggingClassifier \n",
    "from sklearn.neural_network import MLPClassifier\n",
    "from sklearn.ensemble import RandomForestClassifier, VotingClassifier\n",
    "vote_model = VotingClassifier(estimators=[('bag', clf1), ('rf', clf2), ('mlp', clf3)], voting='hard')\n",
    "predicted = cross_val_predict(vote_model, imputed_X_train, Y, cv=10)\n",
    "conf_mat_forest = confusion_matrix(Y,predicted,labels=[-1,0,1])\n",
    "print(calclulateF1(conf_mat_naive))\n",
    "print(precision_recall_fscore_support(Y,predicted))"
   ]
  },
  {
   "cell_type": "code",
   "execution_count": 27,
   "metadata": {},
   "outputs": [
    {
     "data": {
      "text/plain": [
       "0.6265963353692393"
      ]
     },
     "execution_count": 27,
     "metadata": {},
     "output_type": "execute_result"
    }
   ],
   "source": [
    "accuracy_score(Y, predicted)"
   ]
  },
  {
   "cell_type": "code",
   "execution_count": null,
   "metadata": {},
   "outputs": [],
   "source": []
  }
 ],
 "metadata": {
  "kernelspec": {
   "display_name": "Python 3",
   "language": "python",
   "name": "python3"
  },
  "language_info": {
   "codemirror_mode": {
    "name": "ipython",
    "version": 3
   },
   "file_extension": ".py",
   "mimetype": "text/x-python",
   "name": "python",
   "nbconvert_exporter": "python",
   "pygments_lexer": "ipython3",
   "version": "3.6.4"
  }
 },
 "nbformat": 4,
 "nbformat_minor": 2
}
