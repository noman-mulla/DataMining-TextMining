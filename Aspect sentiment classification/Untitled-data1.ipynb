{
 "cells": [
  {
   "cell_type": "code",
   "execution_count": 32,
   "metadata": {},
   "outputs": [
    {
     "data": {
      "text/html": [
       "<div>\n",
       "<style scoped>\n",
       "    .dataframe tbody tr th:only-of-type {\n",
       "        vertical-align: middle;\n",
       "    }\n",
       "\n",
       "    .dataframe tbody tr th {\n",
       "        vertical-align: top;\n",
       "    }\n",
       "\n",
       "    .dataframe thead th {\n",
       "        text-align: right;\n",
       "    }\n",
       "</style>\n",
       "<table border=\"1\" class=\"dataframe\">\n",
       "  <thead>\n",
       "    <tr style=\"text-align: right;\">\n",
       "      <th></th>\n",
       "      <th>example_id</th>\n",
       "      <th>text</th>\n",
       "      <th>aspect_term</th>\n",
       "      <th>term_location</th>\n",
       "      <th>class</th>\n",
       "    </tr>\n",
       "  </thead>\n",
       "  <tbody>\n",
       "    <tr>\n",
       "      <th>0</th>\n",
       "      <td>2333_1</td>\n",
       "      <td>Obviously one of the most important features o...</td>\n",
       "      <td>human interface</td>\n",
       "      <td>69--84</td>\n",
       "      <td>0</td>\n",
       "    </tr>\n",
       "    <tr>\n",
       "      <th>1</th>\n",
       "      <td>1805_1</td>\n",
       "      <td>Good for every day computing and web browsing.</td>\n",
       "      <td>every day computing</td>\n",
       "      <td>9--28</td>\n",
       "      <td>1</td>\n",
       "    </tr>\n",
       "    <tr>\n",
       "      <th>2</th>\n",
       "      <td>2782_2</td>\n",
       "      <td>while the keyboard itself is alright[comma] th...</td>\n",
       "      <td>mouse command buttons</td>\n",
       "      <td>115--136</td>\n",
       "      <td>-1</td>\n",
       "    </tr>\n",
       "    <tr>\n",
       "      <th>3</th>\n",
       "      <td>1385_0</td>\n",
       "      <td>Again[comma] the same problem[comma] the right...</td>\n",
       "      <td>right speaker</td>\n",
       "      <td>29--42</td>\n",
       "      <td>-1</td>\n",
       "    </tr>\n",
       "    <tr>\n",
       "      <th>4</th>\n",
       "      <td>1423_0</td>\n",
       "      <td>My problem was with DELL Customer Service.</td>\n",
       "      <td>DELL Customer Service</td>\n",
       "      <td>20--41</td>\n",
       "      <td>-1</td>\n",
       "    </tr>\n",
       "  </tbody>\n",
       "</table>\n",
       "</div>"
      ],
      "text/plain": [
       "  example_id                                               text  \\\n",
       "0     2333_1  Obviously one of the most important features o...   \n",
       "1     1805_1     Good for every day computing and web browsing.   \n",
       "2     2782_2  while the keyboard itself is alright[comma] th...   \n",
       "3     1385_0  Again[comma] the same problem[comma] the right...   \n",
       "4     1423_0         My problem was with DELL Customer Service.   \n",
       "\n",
       "             aspect_term  term_location   class  \n",
       "0        human interface         69--84       0  \n",
       "1    every day computing          9--28       1  \n",
       "2  mouse command buttons       115--136      -1  \n",
       "3          right speaker         29--42      -1  \n",
       "4  DELL Customer Service         20--41      -1  "
      ]
     },
     "execution_count": 32,
     "metadata": {},
     "output_type": "execute_result"
    }
   ],
   "source": [
    "#read data\n",
    "\n",
    "import pandas as pd\n",
    "train_file_path = \"project_2_train/project_2_train/dara 1_train.csv\"\n",
    "train_data = pd.read_csv(train_file_path)\n",
    "train_data.head()"
   ]
  },
  {
   "cell_type": "code",
   "execution_count": 33,
   "metadata": {},
   "outputs": [
    {
     "name": "stdout",
     "output_type": "stream",
     "text": [
      "use                               51\n",
      "screen                            50\n",
      "price                             50\n",
      "battery life                      46\n",
      "battery                           42\n",
      "keyboard                          38\n",
      "programs                          35\n",
      "warranty                          31\n",
      "features                          29\n",
      "software                          29\n",
      "hard drive                        28\n",
      "size                              22\n",
      "performance                       21\n",
      "quality                           21\n",
      "Windows                           20\n",
      "speed                             20\n",
      "memory                            17\n",
      "applications                      16\n",
      "runs                              14\n",
      "Vista                             14\n",
      "system                            13\n",
      "charge                            13\n",
      "motherboard                       13\n",
      "graphics                          13\n",
      "gaming                            12\n",
      "program                           12\n",
      "works                             12\n",
      "design                            12\n",
      "power supply                      11\n",
      "windows                           10\n",
      "                                  ..\n",
      "500gb hard drive                   1\n",
      "Safari internet browser            1\n",
      "office                             1\n",
      "power plug                         1\n",
      "LaCie 2Big external drive          1\n",
      "word processor                     1\n",
      "HDD cover                          1\n",
      "HDD                                1\n",
      "built-in mic                       1\n",
      "Microsoft office                   1\n",
      "hard disc                          1\n",
      "built it web cam                   1\n",
      "Applecare warranty plan            1\n",
      "DVD                                1\n",
      "Keys                               1\n",
      "base installation                  1\n",
      "burn cd's                          1\n",
      "windows 7 home premium             1\n",
      "Windows Server Enterprise 2003     1\n",
      "system board                       1\n",
      "mouse keys                         1\n",
      "Internet Explore                   1\n",
      "wireless internet access           1\n",
      "Office Mac applications            1\n",
      "WIndows 7                          1\n",
      "my toshiba feature                 1\n",
      "Office programs                    1\n",
      "cam                                1\n",
      "Resolution                         1\n",
      "8GB of RAM                         1\n",
      "Name:  aspect_term, Length: 992, dtype: int64\n"
     ]
    }
   ],
   "source": [
    "aspect_term = train_data[' aspect_term'].value_counts(dropna=False)\n",
    "print(aspect_term)"
   ]
  },
  {
   "cell_type": "code",
   "execution_count": 34,
   "metadata": {},
   "outputs": [
    {
     "name": "stdout",
     "output_type": "stream",
     "text": [
      " 1    939\n",
      "-1    828\n",
      " 0    436\n",
      "Name:  class, dtype: int64\n"
     ]
    }
   ],
   "source": [
    "class_value = train_data[' class'].value_counts(dropna=False)\n",
    "print(class_value)"
   ]
  },
  {
   "cell_type": "code",
   "execution_count": 35,
   "metadata": {},
   "outputs": [
    {
     "data": {
      "text/html": [
       "<div>\n",
       "<style scoped>\n",
       "    .dataframe tbody tr th:only-of-type {\n",
       "        vertical-align: middle;\n",
       "    }\n",
       "\n",
       "    .dataframe tbody tr th {\n",
       "        vertical-align: top;\n",
       "    }\n",
       "\n",
       "    .dataframe thead th {\n",
       "        text-align: right;\n",
       "    }\n",
       "</style>\n",
       "<table border=\"1\" class=\"dataframe\">\n",
       "  <thead>\n",
       "    <tr style=\"text-align: right;\">\n",
       "      <th></th>\n",
       "      <th>aspect_term</th>\n",
       "      <th>term_location</th>\n",
       "    </tr>\n",
       "  </thead>\n",
       "  <tbody>\n",
       "    <tr>\n",
       "      <th>0</th>\n",
       "      <td>human interface</td>\n",
       "      <td>69--84</td>\n",
       "    </tr>\n",
       "    <tr>\n",
       "      <th>1</th>\n",
       "      <td>every day computing</td>\n",
       "      <td>9--28</td>\n",
       "    </tr>\n",
       "    <tr>\n",
       "      <th>2</th>\n",
       "      <td>mouse command buttons</td>\n",
       "      <td>115--136</td>\n",
       "    </tr>\n",
       "    <tr>\n",
       "      <th>3</th>\n",
       "      <td>right speaker</td>\n",
       "      <td>29--42</td>\n",
       "    </tr>\n",
       "    <tr>\n",
       "      <th>4</th>\n",
       "      <td>DELL Customer Service</td>\n",
       "      <td>20--41</td>\n",
       "    </tr>\n",
       "  </tbody>\n",
       "</table>\n",
       "</div>"
      ],
      "text/plain": [
       "             aspect_term  term_location\n",
       "0        human interface         69--84\n",
       "1    every day computing          9--28\n",
       "2  mouse command buttons       115--136\n",
       "3          right speaker         29--42\n",
       "4  DELL Customer Service         20--41"
      ]
     },
     "execution_count": 35,
     "metadata": {},
     "output_type": "execute_result"
    }
   ],
   "source": [
    "X = train_data.drop([\" class\",\"example_id\",\" text\"],axis=1)\n",
    "X.head()"
   ]
  },
  {
   "cell_type": "code",
   "execution_count": 36,
   "metadata": {},
   "outputs": [
    {
     "data": {
      "text/plain": [
       "(2203, 2)"
      ]
     },
     "execution_count": 36,
     "metadata": {},
     "output_type": "execute_result"
    }
   ],
   "source": [
    "X.shape"
   ]
  },
  {
   "cell_type": "code",
   "execution_count": 37,
   "metadata": {},
   "outputs": [
    {
     "data": {
      "text/plain": [
       "0    0\n",
       "1    1\n",
       "2   -1\n",
       "3   -1\n",
       "4   -1\n",
       "Name:  class, dtype: int64"
      ]
     },
     "execution_count": 37,
     "metadata": {},
     "output_type": "execute_result"
    }
   ],
   "source": [
    "## target data\n",
    "Y = train_data[\" class\"]\n",
    "Y.head()"
   ]
  },
  {
   "cell_type": "code",
   "execution_count": 38,
   "metadata": {},
   "outputs": [
    {
     "data": {
      "text/plain": [
       "(2203, 3246)"
      ]
     },
     "execution_count": 38,
     "metadata": {},
     "output_type": "execute_result"
    }
   ],
   "source": [
    "#bag of words\n",
    "from sklearn.feature_extraction.text import CountVectorizer\n",
    "count_vect = CountVectorizer()\n",
    "X_train_bag = count_vect.fit_transform(train_data[\" text\"])\n",
    "X_train_bag.shape"
   ]
  },
  {
   "cell_type": "code",
   "execution_count": 39,
   "metadata": {},
   "outputs": [],
   "source": [
    "#TF-IDF\n",
    "from sklearn.feature_extraction.text import TfidfTransformer\n",
    "tfidf_transformer = TfidfTransformer()\n",
    "X_train_tfidf = tfidf_transformer.fit_transform(X_train_bag)\n",
    "X_train_tfidf.shape\n",
    "X_tfidf = pd.DataFrame(X_train_tfidf.toarray())"
   ]
  },
  {
   "cell_type": "code",
   "execution_count": 40,
   "metadata": {},
   "outputs": [],
   "source": [
    "\n",
    "df2 = pd.merge(X,X_tfidf, left_index=True, right_index=True)"
   ]
  },
  {
   "cell_type": "code",
   "execution_count": 41,
   "metadata": {},
   "outputs": [
    {
     "data": {
      "text/html": [
       "<div>\n",
       "<style scoped>\n",
       "    .dataframe tbody tr th:only-of-type {\n",
       "        vertical-align: middle;\n",
       "    }\n",
       "\n",
       "    .dataframe tbody tr th {\n",
       "        vertical-align: top;\n",
       "    }\n",
       "\n",
       "    .dataframe thead th {\n",
       "        text-align: right;\n",
       "    }\n",
       "</style>\n",
       "<table border=\"1\" class=\"dataframe\">\n",
       "  <thead>\n",
       "    <tr style=\"text-align: right;\">\n",
       "      <th></th>\n",
       "      <th>aspect_term</th>\n",
       "      <th>term_location</th>\n",
       "      <th>0</th>\n",
       "      <th>1</th>\n",
       "      <th>2</th>\n",
       "      <th>3</th>\n",
       "      <th>4</th>\n",
       "      <th>5</th>\n",
       "      <th>6</th>\n",
       "      <th>7</th>\n",
       "      <th>...</th>\n",
       "      <th>3236</th>\n",
       "      <th>3237</th>\n",
       "      <th>3238</th>\n",
       "      <th>3239</th>\n",
       "      <th>3240</th>\n",
       "      <th>3241</th>\n",
       "      <th>3242</th>\n",
       "      <th>3243</th>\n",
       "      <th>3244</th>\n",
       "      <th>3245</th>\n",
       "    </tr>\n",
       "  </thead>\n",
       "  <tbody>\n",
       "    <tr>\n",
       "      <th>0</th>\n",
       "      <td>human interface</td>\n",
       "      <td>69--84</td>\n",
       "      <td>0.0</td>\n",
       "      <td>0.0</td>\n",
       "      <td>0.0</td>\n",
       "      <td>0.0</td>\n",
       "      <td>0.0</td>\n",
       "      <td>0.0</td>\n",
       "      <td>0.0</td>\n",
       "      <td>0.0</td>\n",
       "      <td>...</td>\n",
       "      <td>0.0</td>\n",
       "      <td>0.0</td>\n",
       "      <td>0.0</td>\n",
       "      <td>0.0</td>\n",
       "      <td>0.0</td>\n",
       "      <td>0.0</td>\n",
       "      <td>0.0</td>\n",
       "      <td>0.0</td>\n",
       "      <td>0.0</td>\n",
       "      <td>0.0</td>\n",
       "    </tr>\n",
       "    <tr>\n",
       "      <th>1</th>\n",
       "      <td>every day computing</td>\n",
       "      <td>9--28</td>\n",
       "      <td>0.0</td>\n",
       "      <td>0.0</td>\n",
       "      <td>0.0</td>\n",
       "      <td>0.0</td>\n",
       "      <td>0.0</td>\n",
       "      <td>0.0</td>\n",
       "      <td>0.0</td>\n",
       "      <td>0.0</td>\n",
       "      <td>...</td>\n",
       "      <td>0.0</td>\n",
       "      <td>0.0</td>\n",
       "      <td>0.0</td>\n",
       "      <td>0.0</td>\n",
       "      <td>0.0</td>\n",
       "      <td>0.0</td>\n",
       "      <td>0.0</td>\n",
       "      <td>0.0</td>\n",
       "      <td>0.0</td>\n",
       "      <td>0.0</td>\n",
       "    </tr>\n",
       "    <tr>\n",
       "      <th>2</th>\n",
       "      <td>mouse command buttons</td>\n",
       "      <td>115--136</td>\n",
       "      <td>0.0</td>\n",
       "      <td>0.0</td>\n",
       "      <td>0.0</td>\n",
       "      <td>0.0</td>\n",
       "      <td>0.0</td>\n",
       "      <td>0.0</td>\n",
       "      <td>0.0</td>\n",
       "      <td>0.0</td>\n",
       "      <td>...</td>\n",
       "      <td>0.0</td>\n",
       "      <td>0.0</td>\n",
       "      <td>0.0</td>\n",
       "      <td>0.0</td>\n",
       "      <td>0.0</td>\n",
       "      <td>0.0</td>\n",
       "      <td>0.0</td>\n",
       "      <td>0.0</td>\n",
       "      <td>0.0</td>\n",
       "      <td>0.0</td>\n",
       "    </tr>\n",
       "    <tr>\n",
       "      <th>3</th>\n",
       "      <td>right speaker</td>\n",
       "      <td>29--42</td>\n",
       "      <td>0.0</td>\n",
       "      <td>0.0</td>\n",
       "      <td>0.0</td>\n",
       "      <td>0.0</td>\n",
       "      <td>0.0</td>\n",
       "      <td>0.0</td>\n",
       "      <td>0.0</td>\n",
       "      <td>0.0</td>\n",
       "      <td>...</td>\n",
       "      <td>0.0</td>\n",
       "      <td>0.0</td>\n",
       "      <td>0.0</td>\n",
       "      <td>0.0</td>\n",
       "      <td>0.0</td>\n",
       "      <td>0.0</td>\n",
       "      <td>0.0</td>\n",
       "      <td>0.0</td>\n",
       "      <td>0.0</td>\n",
       "      <td>0.0</td>\n",
       "    </tr>\n",
       "    <tr>\n",
       "      <th>4</th>\n",
       "      <td>DELL Customer Service</td>\n",
       "      <td>20--41</td>\n",
       "      <td>0.0</td>\n",
       "      <td>0.0</td>\n",
       "      <td>0.0</td>\n",
       "      <td>0.0</td>\n",
       "      <td>0.0</td>\n",
       "      <td>0.0</td>\n",
       "      <td>0.0</td>\n",
       "      <td>0.0</td>\n",
       "      <td>...</td>\n",
       "      <td>0.0</td>\n",
       "      <td>0.0</td>\n",
       "      <td>0.0</td>\n",
       "      <td>0.0</td>\n",
       "      <td>0.0</td>\n",
       "      <td>0.0</td>\n",
       "      <td>0.0</td>\n",
       "      <td>0.0</td>\n",
       "      <td>0.0</td>\n",
       "      <td>0.0</td>\n",
       "    </tr>\n",
       "  </tbody>\n",
       "</table>\n",
       "<p>5 rows × 3248 columns</p>\n",
       "</div>"
      ],
      "text/plain": [
       "             aspect_term  term_location    0    1    2    3    4    5    6  \\\n",
       "0        human interface         69--84  0.0  0.0  0.0  0.0  0.0  0.0  0.0   \n",
       "1    every day computing          9--28  0.0  0.0  0.0  0.0  0.0  0.0  0.0   \n",
       "2  mouse command buttons       115--136  0.0  0.0  0.0  0.0  0.0  0.0  0.0   \n",
       "3          right speaker         29--42  0.0  0.0  0.0  0.0  0.0  0.0  0.0   \n",
       "4  DELL Customer Service         20--41  0.0  0.0  0.0  0.0  0.0  0.0  0.0   \n",
       "\n",
       "     7  ...   3236  3237  3238  3239  3240  3241  3242  3243  3244  3245  \n",
       "0  0.0  ...    0.0   0.0   0.0   0.0   0.0   0.0   0.0   0.0   0.0   0.0  \n",
       "1  0.0  ...    0.0   0.0   0.0   0.0   0.0   0.0   0.0   0.0   0.0   0.0  \n",
       "2  0.0  ...    0.0   0.0   0.0   0.0   0.0   0.0   0.0   0.0   0.0   0.0  \n",
       "3  0.0  ...    0.0   0.0   0.0   0.0   0.0   0.0   0.0   0.0   0.0   0.0  \n",
       "4  0.0  ...    0.0   0.0   0.0   0.0   0.0   0.0   0.0   0.0   0.0   0.0  \n",
       "\n",
       "[5 rows x 3248 columns]"
      ]
     },
     "execution_count": 41,
     "metadata": {},
     "output_type": "execute_result"
    }
   ],
   "source": [
    "df2.head()"
   ]
  },
  {
   "cell_type": "code",
   "execution_count": 11,
   "metadata": {},
   "outputs": [],
   "source": [
    "##train validation data split\n",
    "\n",
    "from sklearn.model_selection import train_test_split\n",
    "\n",
    "train_X, val_X, train_Y, val_Y = train_test_split(df2, Y,random_state = 0)"
   ]
  },
  {
   "cell_type": "code",
   "execution_count": 42,
   "metadata": {},
   "outputs": [],
   "source": [
    "one_hot_encoded_training_predictors = pd.get_dummies(df2)\n",
    "#one_hot_encoded_val_predictors = pd.get_dummies(val_X)\n",
    "#final_train, final_val = one_hot_encoded_training_predictors.align(one_hot_encoded_val_predictors,\n",
    "#                                                                    join='left', \n",
    "#                                                                    axis=1)"
   ]
  },
  {
   "cell_type": "code",
   "execution_count": 43,
   "metadata": {},
   "outputs": [
    {
     "name": "stdout",
     "output_type": "stream",
     "text": [
      "(551, 5085)\n"
     ]
    }
   ],
   "source": [
    "from sklearn.preprocessing import Imputer\n",
    "my_imputer = Imputer()\n",
    "imputed_X_train = my_imputer.fit_transform(one_hot_encoded_training_predictors)\n",
    "#imputed_X_val = my_imputer.transform(final_val)\n",
    "#print(imputed_X_train.shape)\n",
    "print(imputed_X_val.shape)"
   ]
  },
  {
   "cell_type": "code",
   "execution_count": 44,
   "metadata": {},
   "outputs": [],
   "source": [
    "#Naive Bayes\n",
    "from sklearn.naive_bayes import MultinomialNB\n",
    "clf = MultinomialNB().fit(imputed_X_train, Y)"
   ]
  },
  {
   "cell_type": "code",
   "execution_count": 15,
   "metadata": {},
   "outputs": [
    {
     "data": {
      "text/plain": [
       "0.647912885662432"
      ]
     },
     "execution_count": 15,
     "metadata": {},
     "output_type": "execute_result"
    }
   ],
   "source": [
    "#Naive Bayes Prediction\n",
    "import numpy as np\n",
    "from sklearn.metrics import accuracy_score\n",
    "predicted = clf.predict(imputed_X_val)\n",
    "accuracy_score(val_Y, predicted)"
   ]
  },
  {
   "cell_type": "code",
   "execution_count": 47,
   "metadata": {},
   "outputs": [
    {
     "name": "stdout",
     "output_type": "stream",
     "text": [
      "For positive class\n",
      "Precision\n",
      "0.7011494252873564\n",
      "Recall\n",
      "0.842720510095643\n",
      "F1 Score\n",
      "0.7654440154440154\n",
      "For negative class\n",
      "Precision\n",
      "0.6692223439211391\n",
      "Recall\n",
      "0.736144578313253\n",
      "F1 Score\n",
      "0.7010900745840505\n",
      "For neutral class\n",
      "Precision\n",
      "0.6792452830188679\n",
      "Recall\n",
      "0.2465753424657534\n",
      "F1 Score\n",
      "0.36180904522613067\n",
      "None\n",
      "(array([0.66922234, 0.67924528, 0.70114943]), array([0.73792271, 0.24770642, 0.84451544]), array([0.70189546, 0.36302521, 0.76618357]), array([828, 436, 939]))\n"
     ]
    }
   ],
   "source": [
    "#Naive Bayes using cross validation and\n",
    "from sklearn.model_selection import cross_val_predict\n",
    "from sklearn.metrics import confusion_matrix\n",
    "from sklearn.metrics import precision_recall_fscore_support\n",
    "clf = MultinomialNB()\n",
    "predicted = cross_val_predict(clf, imputed_X_train, Y, cv=10)\n",
    "conf_mat_naive = confusion_matrix(Y,predicted,labels=[-1,0,1])\n",
    "print(calclulateF1(conf_mat_naive))\n",
    "print(precision_recall_fscore_support(Y,predicted))"
   ]
  },
  {
   "cell_type": "code",
   "execution_count": 48,
   "metadata": {},
   "outputs": [
    {
     "data": {
      "text/plain": [
       "0.6863368134362233"
      ]
     },
     "execution_count": 48,
     "metadata": {},
     "output_type": "execute_result"
    }
   ],
   "source": [
    "\n",
    "accuracy_score(Y, predicted)"
   ]
  },
  {
   "cell_type": "code",
   "execution_count": 19,
   "metadata": {},
   "outputs": [
    {
     "data": {
      "text/plain": [
       "RandomForestClassifier(bootstrap=True, class_weight=None, criterion='gini',\n",
       "            max_depth=None, max_features='auto', max_leaf_nodes=None,\n",
       "            min_impurity_decrease=0.0, min_impurity_split=None,\n",
       "            min_samples_leaf=1, min_samples_split=2,\n",
       "            min_weight_fraction_leaf=0.0, n_estimators=10, n_jobs=1,\n",
       "            oob_score=False, random_state=None, verbose=0,\n",
       "            warm_start=False)"
      ]
     },
     "execution_count": 19,
     "metadata": {},
     "output_type": "execute_result"
    }
   ],
   "source": [
    "#Random Forest train\n",
    "from sklearn.ensemble import RandomForestClassifier\n",
    "forest_model = RandomForestClassifier()\n",
    "forest_model.fit(imputed_X_train,train_Y)"
   ]
  },
  {
   "cell_type": "code",
   "execution_count": 20,
   "metadata": {},
   "outputs": [
    {
     "data": {
      "text/plain": [
       "0.6751361161524501"
      ]
     },
     "execution_count": 20,
     "metadata": {},
     "output_type": "execute_result"
    }
   ],
   "source": [
    "#Random Forest predict\n",
    "forest_pred = forest_model.predict(imputed_X_val)\n",
    "accuracy_score(val_Y, forest_pred)"
   ]
  },
  {
   "cell_type": "code",
   "execution_count": 50,
   "metadata": {},
   "outputs": [
    {
     "name": "stdout",
     "output_type": "stream",
     "text": [
      "For positive class\n",
      "Precision\n",
      "0.7540453074433657\n",
      "Recall\n",
      "0.742826780021254\n",
      "F1 Score\n",
      "0.7483940042826552\n",
      "For negative class\n",
      "Precision\n",
      "0.6663254861821903\n",
      "Recall\n",
      "0.7843373493975904\n",
      "F1 Score\n",
      "0.7205312672938572\n",
      "For neutral class\n",
      "Precision\n",
      "0.6187290969899666\n",
      "Recall\n",
      "0.4223744292237443\n",
      "F1 Score\n",
      "0.5020352781546811\n",
      "For positive class\n",
      "Precision\n",
      "0.7011494252873564\n",
      "Recall\n",
      "0.842720510095643\n",
      "F1 Score\n",
      "0.7654440154440154\n",
      "For negative class\n",
      "Precision\n",
      "0.6692223439211391\n",
      "Recall\n",
      "0.736144578313253\n",
      "F1 Score\n",
      "0.7010900745840505\n",
      "For neutral class\n",
      "Precision\n",
      "0.6792452830188679\n",
      "Recall\n",
      "0.2465753424657534\n",
      "F1 Score\n",
      "0.36180904522613067\n",
      "None\n",
      "(array([0.66632549, 0.6187291 , 0.75404531]), array([0.78623188, 0.42431193, 0.74440895]), array([0.72132964, 0.50340136, 0.74919614]), array([828, 436, 939]))\n"
     ]
    }
   ],
   "source": [
    "#Random Forest using cross validation and confusion matrix\n",
    "forest_model = RandomForestClassifier()\n",
    "predicted = cross_val_predict(forest_model, imputed_X_train, Y, cv=10)\n",
    "conf_mat_forest = confusion_matrix(Y,predicted,labels=[-1,0,1])\n",
    "calclulateF1(conf_mat_forest)\n",
    "print(calclulateF1(conf_mat_naive))\n",
    "print(precision_recall_fscore_support(Y,predicted))"
   ]
  },
  {
   "cell_type": "code",
   "execution_count": 52,
   "metadata": {},
   "outputs": [
    {
     "data": {
      "text/plain": [
       "0.6967771221062188"
      ]
     },
     "execution_count": 52,
     "metadata": {},
     "output_type": "execute_result"
    }
   ],
   "source": [
    "accuracy_score(Y, predicted)"
   ]
  },
  {
   "cell_type": "code",
   "execution_count": 17,
   "metadata": {},
   "outputs": [],
   "source": [
    "def calclulateF1(conf_matrix):\n",
    "    print(\"For positive class\")\n",
    "    tp_positive = conf_matrix[2,2]\n",
    "    fn_positive = sum(conf_matrix[2,:], 2)-conf_matrix[2, 2]\n",
    "    fp_positive = sum(conf_matrix[:,2])-conf_matrix[2, 2]\n",
    "    print(\"Precision\")\n",
    "    p_positive = tp_positive/(tp_positive+fp_positive)\n",
    "    print(p_positive)\n",
    "    print(\"Recall\")\n",
    "    r_positive =tp_positive/(tp_positive+fn_positive)\n",
    "    print(r_positive)\n",
    "    print(\"F1 Score\")\n",
    "    f1_positive = (2*p_positive*r_positive)/(p_positive+r_positive)\n",
    "    print(f1_positive)\n",
    "    print(\"For negative class\")\n",
    "    tp_negative = conf_matrix[0,0]\n",
    "    fn_negative = sum(conf_matrix[0,:], 2)-conf_matrix[0, 0]\n",
    "    fp_negative = sum(conf_matrix[:,0])-conf_matrix[0, 0]\n",
    "    print(\"Precision\")\n",
    "    p_negative = tp_negative/(tp_negative+fp_negative)\n",
    "    print(p_negative)\n",
    "    print(\"Recall\")\n",
    "    r_negative =tp_negative/(tp_negative+fn_negative)\n",
    "    print(r_negative)\n",
    "    print(\"F1 Score\")\n",
    "    f1_negative = (2*p_negative*r_negative)/(p_negative+r_negative)\n",
    "    print(f1_negative)\n",
    "    print(\"For neutral class\")\n",
    "    tp_neutral = conf_matrix[1,1]\n",
    "    fn_neutral = sum(conf_matrix[1,:], 2)-conf_matrix[1, 1]\n",
    "    fp_neutral = sum(conf_matrix[:,1])-conf_matrix[1, 1]\n",
    "    print(\"Precision\")\n",
    "    p_neutral = tp_neutral/(tp_neutral+fp_neutral)\n",
    "    print(p_neutral)\n",
    "    print(\"Recall\")\n",
    "    r_neutral =tp_neutral/(tp_neutral+fn_neutral)\n",
    "    print(r_neutral)\n",
    "    print(\"F1 Score\")\n",
    "    f1_neutral = (2*p_neutral*r_neutral)/(p_neutral+r_neutral)\n",
    "    print(f1_neutral)"
   ]
  },
  {
   "cell_type": "code",
   "execution_count": 23,
   "metadata": {},
   "outputs": [
    {
     "name": "stderr",
     "output_type": "stream",
     "text": [
      "/anaconda3/lib/python3.6/site-packages/sklearn/preprocessing/label.py:151: DeprecationWarning: The truth value of an empty array is ambiguous. Returning False, but in future this will result in an error. Use `array.size > 0` to check that an array is not empty.\n",
      "  if diff:\n"
     ]
    },
    {
     "data": {
      "text/plain": [
       "0.6987295825771325"
      ]
     },
     "execution_count": 23,
     "metadata": {},
     "output_type": "execute_result"
    }
   ],
   "source": [
    "from sklearn.ensemble import BaggingClassifier \n",
    "from sklearn.neural_network import MLPClassifier\n",
    "from sklearn.ensemble import RandomForestClassifier, VotingClassifier\n",
    "\n",
    "clf1 = BaggingClassifier()\n",
    "clf2 = RandomForestClassifier(n_estimators=100)\n",
    "clf3 = MLPClassifier()\n",
    "\n",
    "vote_model = VotingClassifier(estimators=[('bag', clf1), ('rf', clf2), ('mlp', clf3)], voting='hard')\n",
    "vote_model.fit(imputed_X_train,train_Y)\n",
    "vote_pred = vote_model.predict(imputed_X_val)\n",
    "accuracy_score(val_Y, vote_pred)"
   ]
  },
  {
   "cell_type": "code",
   "execution_count": 53,
   "metadata": {},
   "outputs": [
    {
     "name": "stderr",
     "output_type": "stream",
     "text": [
      "/anaconda3/lib/python3.6/site-packages/sklearn/preprocessing/label.py:151: DeprecationWarning: The truth value of an empty array is ambiguous. Returning False, but in future this will result in an error. Use `array.size > 0` to check that an array is not empty.\n",
      "  if diff:\n",
      "/anaconda3/lib/python3.6/site-packages/sklearn/preprocessing/label.py:151: DeprecationWarning: The truth value of an empty array is ambiguous. Returning False, but in future this will result in an error. Use `array.size > 0` to check that an array is not empty.\n",
      "  if diff:\n",
      "/anaconda3/lib/python3.6/site-packages/sklearn/preprocessing/label.py:151: DeprecationWarning: The truth value of an empty array is ambiguous. Returning False, but in future this will result in an error. Use `array.size > 0` to check that an array is not empty.\n",
      "  if diff:\n",
      "/anaconda3/lib/python3.6/site-packages/sklearn/preprocessing/label.py:151: DeprecationWarning: The truth value of an empty array is ambiguous. Returning False, but in future this will result in an error. Use `array.size > 0` to check that an array is not empty.\n",
      "  if diff:\n",
      "/anaconda3/lib/python3.6/site-packages/sklearn/preprocessing/label.py:151: DeprecationWarning: The truth value of an empty array is ambiguous. Returning False, but in future this will result in an error. Use `array.size > 0` to check that an array is not empty.\n",
      "  if diff:\n",
      "/anaconda3/lib/python3.6/site-packages/sklearn/preprocessing/label.py:151: DeprecationWarning: The truth value of an empty array is ambiguous. Returning False, but in future this will result in an error. Use `array.size > 0` to check that an array is not empty.\n",
      "  if diff:\n",
      "/anaconda3/lib/python3.6/site-packages/sklearn/preprocessing/label.py:151: DeprecationWarning: The truth value of an empty array is ambiguous. Returning False, but in future this will result in an error. Use `array.size > 0` to check that an array is not empty.\n",
      "  if diff:\n",
      "/anaconda3/lib/python3.6/site-packages/sklearn/preprocessing/label.py:151: DeprecationWarning: The truth value of an empty array is ambiguous. Returning False, but in future this will result in an error. Use `array.size > 0` to check that an array is not empty.\n",
      "  if diff:\n",
      "/anaconda3/lib/python3.6/site-packages/sklearn/preprocessing/label.py:151: DeprecationWarning: The truth value of an empty array is ambiguous. Returning False, but in future this will result in an error. Use `array.size > 0` to check that an array is not empty.\n",
      "  if diff:\n"
     ]
    },
    {
     "name": "stdout",
     "output_type": "stream",
     "text": [
      "For positive class\n",
      "Precision\n",
      "0.7839305103148752\n",
      "Recall\n",
      "0.767268862911796\n",
      "F1 Score\n",
      "0.7755102040816326\n",
      "For negative class\n",
      "Precision\n",
      "0.6962283384301733\n",
      "Recall\n",
      "0.8228915662650602\n",
      "F1 Score\n",
      "0.7542794036443954\n",
      "For neutral class\n",
      "Precision\n",
      "0.6578073089700996\n",
      "Recall\n",
      "0.4520547945205479\n",
      "F1 Score\n",
      "0.5358592692828146\n",
      "For positive class\n",
      "Precision\n",
      "0.7011494252873564\n",
      "Recall\n",
      "0.842720510095643\n",
      "F1 Score\n",
      "0.7654440154440154\n",
      "For negative class\n",
      "Precision\n",
      "0.6692223439211391\n",
      "Recall\n",
      "0.736144578313253\n",
      "F1 Score\n",
      "0.7010900745840505\n",
      "For neutral class\n",
      "Precision\n",
      "0.6792452830188679\n",
      "Recall\n",
      "0.2465753424657534\n",
      "F1 Score\n",
      "0.36180904522613067\n",
      "None\n",
      "(array([0.69622834, 0.65780731, 0.78393051]), array([0.82487923, 0.45412844, 0.76890309]), array([0.75511332, 0.53731343, 0.77634409]), array([828, 436, 939]))\n"
     ]
    },
    {
     "name": "stderr",
     "output_type": "stream",
     "text": [
      "/anaconda3/lib/python3.6/site-packages/sklearn/preprocessing/label.py:151: DeprecationWarning: The truth value of an empty array is ambiguous. Returning False, but in future this will result in an error. Use `array.size > 0` to check that an array is not empty.\n",
      "  if diff:\n"
     ]
    }
   ],
   "source": [
    "#Random Forest using cross validation and confusion matrix\n",
    "vote_model = VotingClassifier(estimators=[('bag', clf1), ('rf', clf2), ('mlp', clf3)], voting='hard')\n",
    "predicted = cross_val_predict(vote_model, imputed_X_train, Y, cv=10)\n",
    "conf_mat_forest = confusion_matrix(Y,predicted,labels=[-1,0,1])\n",
    "calclulateF1(conf_mat_forest)\n",
    "print(calclulateF1(conf_mat_naive))\n",
    "print(precision_recall_fscore_support(Y,predicted))"
   ]
  },
  {
   "cell_type": "code",
   "execution_count": 55,
   "metadata": {},
   "outputs": [
    {
     "data": {
      "text/plain": [
       "0.7276441216522923"
      ]
     },
     "execution_count": 55,
     "metadata": {},
     "output_type": "execute_result"
    }
   ],
   "source": [
    "accuracy_score(Y, predicted)"
   ]
  },
  {
   "cell_type": "code",
   "execution_count": null,
   "metadata": {},
   "outputs": [],
   "source": []
  }
 ],
 "metadata": {
  "kernelspec": {
   "display_name": "Python 3",
   "language": "python",
   "name": "python3"
  },
  "language_info": {
   "codemirror_mode": {
    "name": "ipython",
    "version": 3
   },
   "file_extension": ".py",
   "mimetype": "text/x-python",
   "name": "python",
   "nbconvert_exporter": "python",
   "pygments_lexer": "ipython3",
   "version": "3.6.4"
  }
 },
 "nbformat": 4,
 "nbformat_minor": 2
}
